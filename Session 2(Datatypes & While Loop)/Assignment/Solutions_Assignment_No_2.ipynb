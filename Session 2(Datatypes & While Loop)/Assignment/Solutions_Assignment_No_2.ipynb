{
 "cells": [
  {
   "cell_type": "markdown",
   "metadata": {},
   "source": [
    "# DataTypes"
   ]
  },
  {
   "cell_type": "markdown",
   "metadata": {},
   "source": [
    "### Q1. Identify the datatype for each of the below variables\n",
    "### a = 5\n",
    "### b = \"geeksforgeeks\"\n",
    "### c= 20.5\n",
    "### d= [\"apple\", \"banana\", \"cherry\"]\n",
    "### e= (\"apple\", \"banana\", \"cherry\")\n",
    "### f = {\"apple\", \"banana\", \"cherry\"}\n",
    "### g= {\"name\" : \"John\", \"age\" : 36}\n",
    "### h= True"
   ]
  },
  {
   "cell_type": "raw",
   "metadata": {},
   "source": [
    "a is int\n",
    "b is str\n",
    "c is float\n",
    "d is list\n",
    "e is tuple\n",
    "f is set\n",
    "g is dict\n",
    "h is bool\n",
    "\n",
    "hint: Use type() to know the data types assocaiated with a variable"
   ]
  },
  {
   "cell_type": "markdown",
   "metadata": {},
   "source": [
    "### Q2.Convert x into a decimal number and print the output."
   ]
  },
  {
   "cell_type": "code",
   "execution_count": 1,
   "metadata": {},
   "outputs": [
    {
     "name": "stdout",
     "output_type": "stream",
     "text": [
      "5.0\n"
     ]
    }
   ],
   "source": [
    "x=5\n",
    "print(float(x))"
   ]
  },
  {
   "cell_type": "markdown",
   "metadata": {},
   "source": [
    "### Q3.Convert y into a integer number and print the output.¶"
   ]
  },
  {
   "cell_type": "code",
   "execution_count": 2,
   "metadata": {},
   "outputs": [
    {
     "name": "stdout",
     "output_type": "stream",
     "text": [
      "5\n"
     ]
    }
   ],
   "source": [
    "y = 5.5\n",
    "print(int(y))"
   ]
  },
  {
   "cell_type": "markdown",
   "metadata": {},
   "source": [
    "### Q4.Convert z into a Float number and print the output."
   ]
  },
  {
   "cell_type": "code",
   "execution_count": 3,
   "metadata": {},
   "outputs": [
    {
     "name": "stdout",
     "output_type": "stream",
     "text": [
      "6.0\n"
     ]
    }
   ],
   "source": [
    "z=6\n",
    "print(float(z))"
   ]
  },
  {
   "cell_type": "markdown",
   "metadata": {},
   "source": [
    "### Q5.Create a variable named \"txt\" and assign the value \"Hello World\" to it."
   ]
  },
  {
   "cell_type": "code",
   "execution_count": 4,
   "metadata": {
    "collapsed": true
   },
   "outputs": [],
   "source": [
    "txt='Hello World'"
   ]
  },
  {
   "cell_type": "markdown",
   "metadata": {},
   "source": [
    "### Q6.Print the length of the variable \"txt\"."
   ]
  },
  {
   "cell_type": "code",
   "execution_count": 5,
   "metadata": {},
   "outputs": [
    {
     "data": {
      "text/plain": [
       "11"
      ]
     },
     "execution_count": 5,
     "metadata": {},
     "output_type": "execute_result"
    }
   ],
   "source": [
    "len(txt)"
   ]
  },
  {
   "cell_type": "markdown",
   "metadata": {},
   "source": [
    "### Q7.Print the first character of the string \"txt\"."
   ]
  },
  {
   "cell_type": "code",
   "execution_count": 6,
   "metadata": {},
   "outputs": [
    {
     "data": {
      "text/plain": [
       "'H'"
      ]
     },
     "execution_count": 6,
     "metadata": {},
     "output_type": "execute_result"
    }
   ],
   "source": [
    "txt[0]"
   ]
  },
  {
   "cell_type": "markdown",
   "metadata": {},
   "source": [
    "### Q8.Print the characters from index 2 to index 4 for string \"txt\" i.e. (llo)."
   ]
  },
  {
   "cell_type": "code",
   "execution_count": 7,
   "metadata": {},
   "outputs": [
    {
     "data": {
      "text/plain": [
       "'llo'"
      ]
     },
     "execution_count": 7,
     "metadata": {},
     "output_type": "execute_result"
    }
   ],
   "source": [
    "txt[2:5]"
   ]
  },
  {
   "cell_type": "markdown",
   "metadata": {},
   "source": [
    "### Q9.Convert the value of txt to upper case and print the output."
   ]
  },
  {
   "cell_type": "code",
   "execution_count": 8,
   "metadata": {},
   "outputs": [
    {
     "name": "stdout",
     "output_type": "stream",
     "text": [
      "HELLO WORLD\n"
     ]
    }
   ],
   "source": [
    "print(txt.upper())"
   ]
  },
  {
   "cell_type": "markdown",
   "metadata": {},
   "source": [
    "0### Q10.Replace the character \"H\" with a \"J\" in string \"txt\" and print the output."
   ]
  },
  {
   "cell_type": "code",
   "execution_count": 9,
   "metadata": {},
   "outputs": [
    {
     "name": "stdout",
     "output_type": "stream",
     "text": [
      "Jello World\n"
     ]
    }
   ],
   "source": [
    "print(txt.replace('H','J'))"
   ]
  },
  {
   "cell_type": "markdown",
   "metadata": {},
   "source": [
    "### Q11.Print the string \"str1\" without any whitespace at the beginning or the end."
   ]
  },
  {
   "cell_type": "code",
   "execution_count": 50,
   "metadata": {},
   "outputs": [
    {
     "name": "stdout",
     "output_type": "stream",
     "text": [
      "Welcome ACOE\n"
     ]
    }
   ],
   "source": [
    "str1 = \" Welcome ACOE \"\n",
    "print(str1.strip())\n",
    "\n",
    "# to see the actual difference:check the length in both cases, with & without  the strip()"
   ]
  },
  {
   "cell_type": "markdown",
   "metadata": {},
   "source": [
    "### Q12. Insert the correct syntax to add a placeholder for the age parameter. Replace __ with the placeholder"
   ]
  },
  {
   "cell_type": "code",
   "execution_count": 49,
   "metadata": {},
   "outputs": [
    {
     "name": "stdout",
     "output_type": "stream",
     "text": [
      "My name is John, and I am 36 \n"
     ]
    }
   ],
   "source": [
    "age = 36\n",
    "txt = \"My name is John, and I am {} \"\n",
    "\n",
    "#print My name is John, and I am 36\n",
    "print(txt.format(age))"
   ]
  },
  {
   "cell_type": "markdown",
   "metadata": {},
   "source": [
    "### Q13. Print the bool value of the following statements"
   ]
  },
  {
   "cell_type": "code",
   "execution_count": 12,
   "metadata": {},
   "outputs": [
    {
     "name": "stdout",
     "output_type": "stream",
     "text": [
      "True\n",
      "False\n"
     ]
    }
   ],
   "source": [
    "x=\"abc\"\n",
    "y=0\n",
    "print(bool(x))\n",
    "print(bool(y))"
   ]
  },
  {
   "cell_type": "markdown",
   "metadata": {},
   "source": [
    "### Q14. Take value 5 as a user input in variable \"x\" and print its value and type"
   ]
  },
  {
   "cell_type": "code",
   "execution_count": 13,
   "metadata": {},
   "outputs": [
    {
     "name": "stdout",
     "output_type": "stream",
     "text": [
      "Enter Number:5\n",
      "5\n",
      "<class 'str'>\n"
     ]
    }
   ],
   "source": [
    "num=input(\"Enter Number:\")\n",
    "print(num)\n",
    "print(type(num))"
   ]
  },
  {
   "cell_type": "markdown",
   "metadata": {},
   "source": [
    "# Lists"
   ]
  },
  {
   "cell_type": "markdown",
   "metadata": {},
   "source": [
    "### Q15.Print the second item in the fruits list."
   ]
  },
  {
   "cell_type": "code",
   "execution_count": 14,
   "metadata": {},
   "outputs": [
    {
     "data": {
      "text/plain": [
       "'banana'"
      ]
     },
     "execution_count": 14,
     "metadata": {},
     "output_type": "execute_result"
    }
   ],
   "source": [
    "fruits_list = [\"apple\", \"banana\", \"cherry\"]\n",
    "fruits_list[1]"
   ]
  },
  {
   "cell_type": "markdown",
   "metadata": {},
   "source": [
    "### Q16.Change the value from \"apple\" to \"kiwi\", in the fruits_list."
   ]
  },
  {
   "cell_type": "code",
   "execution_count": 15,
   "metadata": {
    "collapsed": true
   },
   "outputs": [],
   "source": [
    "fruits_list[0]='kiwi'"
   ]
  },
  {
   "cell_type": "markdown",
   "metadata": {},
   "source": [
    "### Q17. Add \"orange\" to the fruits_list and print the elements in the list"
   ]
  },
  {
   "cell_type": "code",
   "execution_count": 16,
   "metadata": {},
   "outputs": [
    {
     "name": "stdout",
     "output_type": "stream",
     "text": [
      "['kiwi', 'banana', 'cherry', 'orange']\n"
     ]
    }
   ],
   "source": [
    "fruits_list.append('orange')\n",
    "print(fruits_list)"
   ]
  },
  {
   "cell_type": "markdown",
   "metadata": {},
   "source": [
    "### Q18.Add \"lemon\" as the second item in the fruits_list and print the elements in the list"
   ]
  },
  {
   "cell_type": "code",
   "execution_count": 17,
   "metadata": {},
   "outputs": [
    {
     "name": "stdout",
     "output_type": "stream",
     "text": [
      "['kiwi', 'lemon', 'banana', 'cherry', 'orange']\n"
     ]
    }
   ],
   "source": [
    "fruits_list.insert(1,'lemon')\n",
    "print(fruits_list)"
   ]
  },
  {
   "cell_type": "markdown",
   "metadata": {},
   "source": [
    "### Q19.Use the remove method to remove \"banana\" from the fruits_list."
   ]
  },
  {
   "cell_type": "code",
   "execution_count": 18,
   "metadata": {},
   "outputs": [
    {
     "name": "stdout",
     "output_type": "stream",
     "text": [
      "['kiwi', 'lemon', 'cherry', 'orange']\n"
     ]
    }
   ],
   "source": [
    "fruits_list.remove('banana')\n",
    "print(fruits_list)"
   ]
  },
  {
   "cell_type": "markdown",
   "metadata": {},
   "source": [
    "### Q20.Use negative indexing to print the last item in the fruits_list."
   ]
  },
  {
   "cell_type": "code",
   "execution_count": 19,
   "metadata": {},
   "outputs": [
    {
     "data": {
      "text/plain": [
       "'orange'"
      ]
     },
     "execution_count": 19,
     "metadata": {},
     "output_type": "execute_result"
    }
   ],
   "source": [
    "fruits_list[-1]"
   ]
  },
  {
   "cell_type": "markdown",
   "metadata": {},
   "source": [
    "### Q21.Use a range of indexes to print the third, fourth, and fifth item in the below fruits_list2."
   ]
  },
  {
   "cell_type": "code",
   "execution_count": 20,
   "metadata": {},
   "outputs": [
    {
     "data": {
      "text/plain": [
       "['cherry', 'orange', 'kiwi']"
      ]
     },
     "execution_count": 20,
     "metadata": {},
     "output_type": "execute_result"
    }
   ],
   "source": [
    "fruits_list2 = [\"apple\", \"banana\", \"cherry\", \"orange\", \"kiwi\", \"melon\", \"mango\"]\n",
    "fruits_list2[2:5]"
   ]
  },
  {
   "cell_type": "markdown",
   "metadata": {},
   "source": [
    "### Q22.Print the number of items in the list fruits_list2."
   ]
  },
  {
   "cell_type": "code",
   "execution_count": 21,
   "metadata": {},
   "outputs": [
    {
     "name": "stdout",
     "output_type": "stream",
     "text": [
      "7\n"
     ]
    }
   ],
   "source": [
    "print(len(fruits_list2))"
   ]
  },
  {
   "cell_type": "markdown",
   "metadata": {},
   "source": [
    "# Tuples"
   ]
  },
  {
   "cell_type": "markdown",
   "metadata": {},
   "source": [
    "### Q23.Use the correct syntax to print the first item in the fruits_tuple."
   ]
  },
  {
   "cell_type": "code",
   "execution_count": 22,
   "metadata": {},
   "outputs": [
    {
     "data": {
      "text/plain": [
       "'apple'"
      ]
     },
     "execution_count": 22,
     "metadata": {},
     "output_type": "execute_result"
    }
   ],
   "source": [
    "fruits_tuple = (\"apple\", \"banana\", \"cherry\")\n",
    "fruits_tuple[0]"
   ]
  },
  {
   "cell_type": "markdown",
   "metadata": {},
   "source": [
    "### Q24.Print the number of items in the fruits_tuple."
   ]
  },
  {
   "cell_type": "code",
   "execution_count": 23,
   "metadata": {},
   "outputs": [
    {
     "name": "stdout",
     "output_type": "stream",
     "text": [
      "3\n"
     ]
    }
   ],
   "source": [
    "print(len(fruits_tuple))"
   ]
  },
  {
   "cell_type": "markdown",
   "metadata": {},
   "source": [
    "### Q25.Identify the error in the below statement and give reason for the same.\n",
    "fruits_tuple[0]=\"kiwi\""
   ]
  },
  {
   "cell_type": "raw",
   "metadata": {},
   "source": [
    "tuple is immutable. Hence elements within tuple cannot be modified"
   ]
  },
  {
   "cell_type": "markdown",
   "metadata": {},
   "source": [
    "# Sets"
   ]
  },
  {
   "cell_type": "markdown",
   "metadata": {},
   "source": [
    "### Q26.Define a empty set named fruits_set and add \"orange\",\"banana\" & \"apple\" to the fruits_set."
   ]
  },
  {
   "cell_type": "code",
   "execution_count": 2,
   "metadata": {},
   "outputs": [
    {
     "name": "stdout",
     "output_type": "stream",
     "text": [
      "<class 'set'>\n",
      "{'apple', 'orange', 'banana'}\n"
     ]
    }
   ],
   "source": [
    "fruits_set=set()\n",
    "print(type(fruits_set))\n",
    "fruits=['orange','banana','apple']\n",
    "fruits_set.update(fruits)\n",
    "print(fruits_set)"
   ]
  },
  {
   "cell_type": "markdown",
   "metadata": {},
   "source": [
    "### Q27.Add multiple items of list more_fruits to the set fruits_set and print the resulting set."
   ]
  },
  {
   "cell_type": "code",
   "execution_count": 3,
   "metadata": {},
   "outputs": [
    {
     "name": "stdout",
     "output_type": "stream",
     "text": [
      "{'grapes', 'apple', 'mango', 'orange', 'banana'}\n"
     ]
    }
   ],
   "source": [
    "more_fruits = [ \"mango\", \"grapes\"]\n",
    "fruits_set.update(more_fruits)\n",
    "print(fruits_set)"
   ]
  },
  {
   "cell_type": "markdown",
   "metadata": {},
   "source": [
    "### Q28.Remove \"banana\" permanently from the set fruits_set and print the resultant set"
   ]
  },
  {
   "cell_type": "code",
   "execution_count": 4,
   "metadata": {},
   "outputs": [
    {
     "name": "stdout",
     "output_type": "stream",
     "text": [
      "{'grapes', 'apple', 'mango', 'orange'}\n"
     ]
    }
   ],
   "source": [
    "fruits_set.remove('banana')\n",
    "print(fruits_set)"
   ]
  },
  {
   "cell_type": "markdown",
   "metadata": {},
   "source": [
    "# Dictionary"
   ]
  },
  {
   "cell_type": "markdown",
   "metadata": {},
   "source": [
    "### Q29.Print the value of the \"model\" key of the car dictionary"
   ]
  },
  {
   "cell_type": "code",
   "execution_count": 40,
   "metadata": {},
   "outputs": [
    {
     "name": "stdout",
     "output_type": "stream",
     "text": [
      "Mustang\n"
     ]
    }
   ],
   "source": [
    "car ={\n",
    "  \"brand\": \"Ford\",\n",
    "  \"model\": \"Mustang\",\n",
    "  \"year\": 1964\n",
    "}\n",
    "#Print the value of the \"model\" key of the car dictionary\n",
    "print(car[\"model\"])"
   ]
  },
  {
   "cell_type": "markdown",
   "metadata": {},
   "source": [
    "### Q30.Change the \"year\" value from 1964 to 2020."
   ]
  },
  {
   "cell_type": "code",
   "execution_count": 41,
   "metadata": {},
   "outputs": [
    {
     "name": "stdout",
     "output_type": "stream",
     "text": [
      "{'brand': 'Ford', 'model': 'Mustang', 'year': 2020}\n"
     ]
    }
   ],
   "source": [
    "car['year']=2020\n",
    "print(car)"
   ]
  },
  {
   "cell_type": "markdown",
   "metadata": {},
   "source": [
    "### Q31.Add the key/value pair \"color\" : \"red\" to the car dictionary."
   ]
  },
  {
   "cell_type": "code",
   "execution_count": 42,
   "metadata": {},
   "outputs": [
    {
     "name": "stdout",
     "output_type": "stream",
     "text": [
      "{'brand': 'Ford', 'model': 'Mustang', 'year': 2020, 'color': 'red'}\n"
     ]
    }
   ],
   "source": [
    "car[\"color\"]=\"red\"\n",
    "print(car)"
   ]
  },
  {
   "cell_type": "markdown",
   "metadata": {},
   "source": [
    "### Q32.Use the pop method to remove \"model\" from the car dictionary."
   ]
  },
  {
   "cell_type": "code",
   "execution_count": 43,
   "metadata": {},
   "outputs": [
    {
     "name": "stdout",
     "output_type": "stream",
     "text": [
      "{'brand': 'Ford', 'year': 2020, 'color': 'red'}\n"
     ]
    }
   ],
   "source": [
    "car.pop(\"model\")\n",
    "print(car)"
   ]
  },
  {
   "cell_type": "markdown",
   "metadata": {},
   "source": [
    "### Q33.Write a program that takes 3 numbers as an input from user and print the maximum number amongst them by using the WHILE Loop"
   ]
  },
  {
   "cell_type": "code",
   "execution_count": 45,
   "metadata": {},
   "outputs": [
    {
     "name": "stdout",
     "output_type": "stream",
     "text": [
      "Enter the 1 number:45\n",
      "Enter the 2 number:999\n",
      "Enter the 3 number:5\n",
      "Largest number is:  999\n"
     ]
    }
   ],
   "source": [
    "i=1\n",
    "list_num=[]\n",
    "\n",
    "while i <= 3:\n",
    "    num=input(\"Enter the {} number:\".format(i))\n",
    "    list_num.append(int(num))\n",
    "    i=i+1\n",
    "\n",
    "print(\"Largest number is: \", max(list_num))"
   ]
  },
  {
   "cell_type": "markdown",
   "metadata": {},
   "source": [
    "### While  loop"
   ]
  },
  {
   "cell_type": "markdown",
   "metadata": {},
   "source": [
    "### Q34.Take a number as an input from user and print the prime numbers till that number by demonstraing the use of while loop. e.g. if user enters 7 then output should be 2,3,5,7."
   ]
  },
  {
   "cell_type": "code",
   "execution_count": 17,
   "metadata": {},
   "outputs": [
    {
     "name": "stdout",
     "output_type": "stream",
     "text": [
      "Enter the number:12\n",
      "[2, 3, 5, 7, 11]\n"
     ]
    }
   ],
   "source": [
    "num=int(input(\"Enter the number:\"))\n",
    "prime=[x for x in range(2,num+1)]\n",
    "\n",
    "y=0\n",
    "p=prime[y]\n",
    "while (p * p <= num):\n",
    "        # Update all multiples of p\n",
    "    for i in range(p * 2, num + 1, p):\n",
    "        \n",
    "        if i in prime:\n",
    "            prime.remove(i)\n",
    "    y=y+1\n",
    "    p=prime[y]\n",
    "\n",
    "# Print all prime numbers \n",
    "print(prime)"
   ]
  }
 ],
 "metadata": {
  "kernelspec": {
   "display_name": "Python 3",
   "language": "python",
   "name": "python3"
  },
  "language_info": {
   "codemirror_mode": {
    "name": "ipython",
    "version": 3
   },
   "file_extension": ".py",
   "mimetype": "text/x-python",
   "name": "python",
   "nbconvert_exporter": "python",
   "pygments_lexer": "ipython3",
   "version": "3.7.1"
  }
 },
 "nbformat": 4,
 "nbformat_minor": 2
}
