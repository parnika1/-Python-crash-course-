{
 "cells": [
  {
   "cell_type": "markdown",
   "metadata": {},
   "source": [
    "### Q1.Print numbers from 1 to 10 by skipping numbers 5 and 7 using \"continue\" keyword"
   ]
  },
  {
   "cell_type": "code",
   "execution_count": 1,
   "metadata": {},
   "outputs": [
    {
     "name": "stdout",
     "output_type": "stream",
     "text": [
      "1\n",
      "2\n",
      "3\n",
      "4\n",
      "6\n",
      "8\n",
      "9\n",
      "10\n"
     ]
    }
   ],
   "source": [
    "for x in range(1,11):  # creating a range between 1 to 10\n",
    "    if (x == 5 or x==7):\n",
    "        continue\n",
    "    print(x)\n",
    "    "
   ]
  },
  {
   "cell_type": "markdown",
   "metadata": {},
   "source": [
    "### Q2. Write a program to print elements of the below list using for loop untill you encounter \"Stop\" in the list "
   ]
  },
  {
   "cell_type": "code",
   "execution_count": 10,
   "metadata": {},
   "outputs": [
    {
     "name": "stdout",
     "output_type": "stream",
     "text": [
      "Apple\n",
      "Banana\n",
      "Orange\n",
      "Cherry\n"
     ]
    }
   ],
   "source": [
    "list1=['Apple','Banana','Orange','Cherry','Stop','Kiwi','Pineapple']\n",
    "\n",
    "for lst in list1:\n",
    "    if lst=='Stop': \n",
    "        break\n",
    "    print(lst)    \n",
    "\n",
    "\n"
   ]
  },
  {
   "cell_type": "markdown",
   "metadata": {},
   "source": [
    "### Q3. Write a program that accepts string input & prints the number of digits & letters separately using a for loop"
   ]
  },
  {
   "cell_type": "code",
   "execution_count": 13,
   "metadata": {},
   "outputs": [
    {
     "name": "stdout",
     "output_type": "stream",
     "text": [
      "Input a string :ioiwyvf%4;kkimiim\n",
      "Letters 14\n",
      "Digits 1\n"
     ]
    }
   ],
   "source": [
    "string = input(\"Input a string :\")\n",
    "digit_count=0\n",
    "letter_count=0\n",
    "for char in string:\n",
    "    if char.isdigit():\n",
    "        digit_count=digit_count+1\n",
    "    elif char.isalpha():\n",
    "        letter_count=letter_count+1\n",
    "    else:\n",
    "        pass\n",
    "print(\"Letters\", letter_count)\n",
    "print(\"Digits\", digit_count)\n",
    "\n",
    "\n",
    "\n"
   ]
  },
  {
   "cell_type": "markdown",
   "metadata": {},
   "source": [
    "### Q4. For the list below, split & create 2 lists (List 1 & List 2) , in such a way that Odd & Even numbers are in different respective lists; List 1 & List 2"
   ]
  },
  {
   "cell_type": "code",
   "execution_count": 2,
   "metadata": {},
   "outputs": [
    {
     "name": "stdout",
     "output_type": "stream",
     "text": [
      "[1, 11, 431, 877, 8877]\n",
      "[232, 6, 540]\n"
     ]
    }
   ],
   "source": [
    "List=[1,11,232,431,877,6,540,8877]\n",
    "\n",
    "list_1=[]\n",
    "list_2=[]\n",
    "for lst in List:    #Iterating through the list\n",
    "    if lst%2!=0:\n",
    "        list_1.append(lst)\n",
    "    else:\n",
    "        list_2.append(lst)\n",
    "        \n",
    "print(list_1)\n",
    "print(list_2)"
   ]
  },
  {
   "cell_type": "markdown",
   "metadata": {},
   "source": [
    "### Q5. Write a program to check if any Multi-Digit number is same if read from back & front,i.e(1234321) .Write the program in such a way that it can take any such integer input ,convert it into a list and display the result."
   ]
  },
  {
   "cell_type": "code",
   "execution_count": 4,
   "metadata": {},
   "outputs": [
    {
     "name": "stdout",
     "output_type": "stream",
     "text": [
      "Enter a list: 123456654321\n",
      "Yes\n"
     ]
    }
   ],
   "source": [
    "\n",
    "a=list(input(\"Enter a list: \"))\n",
    "\n",
    "i=0\n",
    "mid =(len(a))/2\n",
    "same =True\n",
    "while i<mid:\n",
    "    if a[i] != a[len(a)-i-1]:\n",
    "        print('No')\n",
    "        same=False\n",
    "        break\n",
    "    i+=1\n",
    "if same == True:\n",
    "    print('Yes')\n",
    "\n"
   ]
  },
  {
   "cell_type": "markdown",
   "metadata": {},
   "source": [
    "### Q6. For the below list of lists, print each element in a new line,i.e 1 2 3 4 5 6 should all be printed in a new line"
   ]
  },
  {
   "cell_type": "code",
   "execution_count": 9,
   "metadata": {},
   "outputs": [
    {
     "name": "stdout",
     "output_type": "stream",
     "text": [
      "1\n",
      "2\n",
      "3\n",
      "4\n",
      "5\n",
      "6\n"
     ]
    }
   ],
   "source": [
    "List_of_list=[[1,2,3],[4,5,6]]\n",
    "\n",
    "a=[[1,2,3],[4,5,6]]\n",
    "i=0\n",
    "while i<len(a):\n",
    "    j=0\n",
    "    while j< len(a[i]):\n",
    "        print(a[i][j])\n",
    "        j=j+1\n",
    "    i=i+1\n",
    "\n"
   ]
  }
 ],
 "metadata": {
  "kernelspec": {
   "display_name": "Python 3",
   "language": "python",
   "name": "python3"
  },
  "language_info": {
   "codemirror_mode": {
    "name": "ipython",
    "version": 3
   },
   "file_extension": ".py",
   "mimetype": "text/x-python",
   "name": "python",
   "nbconvert_exporter": "python",
   "pygments_lexer": "ipython3",
   "version": "3.7.1"
  }
 },
 "nbformat": 4,
 "nbformat_minor": 2
}
