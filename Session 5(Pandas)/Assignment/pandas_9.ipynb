{
 "nbformat": 4,
 "nbformat_minor": 2,
 "metadata": {
  "kernelspec": {
   "display_name": "Python 3",
   "language": "python",
   "name": "python3"
  }
 },
 "cells": [
  {
   "cell_type": "code",
   "execution_count": null,
   "metadata": {},
   "outputs": [],
   "source": [
    "import pandas as pd\n",
    "import numpy as np\n",
    "import seaborn as sns\n",
    "import matplotlib.pyplot as plt\n",
    "plt.style.use('ggplot')\n",
    "%matplotlib inline"
   ]
  },
  {
   "cell_type": "code",
   "execution_count": null,
   "metadata": {},
   "outputs": [],
   "source": [
    "np.random.seed(123549)\n",
    "df_1 = pd.DataFrame(np.random.poisson(50,60), index=pd.DatetimeIndex(start='2011-01-01', periods=60, freq='D', name='Observation Date'), columns=['No. Events'])"
   ]
  },
  {
   "cell_type": "markdown",
   "metadata": {},
   "source": [
    "# Assignment 9.1\n",
    "The records in `df_1` has erroneously been set to be recorded from Jan 1, 2011. The records were in fact from May 2, 2011. Adjust the index accordingly.\n",
    "\n",
    "<details><summary>Hint 1</summary>\n",
    "    <p>\n",
    "        A pandas DataFrame as a <b>tshift</b> method, that allows you to shift the DatetimeIndex by a given number of steps at the DatetimeIndex's frequency\n",
    "    </p>\n",
    "</details>\n",
    "<details><summary>Hint 2</summary>\n",
    "    <p>\n",
    "        Pandas assumes that individual indices are independent. It will therefore shift every index seperately. To keep the proper relation between dates, calculate the offset for the first date in days and offset all indices by that number of days\n",
    "    </p>\n",
    "</details>\n",
    "<details><summary>Hint 3</summary>\n",
    "    <p>\n",
    "        Pandas has a generic <b>DateOffset</b> object in <b>pd.tseries.offsets.DateOffset</b>, that allows you to specify the number of years, months and days to offset a date by\n",
    "    </p>\n",
    "</details>\n",
    "<details><summary>Hint 4</summary>\n",
    "    <p>\n",
    "        Subtracting two pandas dates returns a <b>timedelta</b>. A <b>timedelta</b> has an attribute <b>days</b>, that returns the number of days between the two dates as an integer\n",
    "    </p>\n",
    "</details>"
   ]
  },
  {
   "cell_type": "code",
   "execution_count": null,
   "metadata": {},
   "outputs": [],
   "source": []
  },
  {
   "cell_type": "markdown",
   "metadata": {},
   "source": [
    "# Assignment 9.2\n",
    "Every Thursday the business tallies the total number of events in the previous week (Thursday to Wednesday). Compute the total number of event in every Thursday to Wednesday period and return a pandas Series where the index is the date of the Thursday the week's data is being tallied.\n",
    "<details><summary>Hint 1</summary>\n",
    "    <p>\n",
    "        The pandas offset object <b>pd.tseries.offsets.Week</b> has a parameter <b>weekday</b>, that allows you to specify which day of the week a date should be offset to. Note: When specifying e.g. Monday as the weekday, every Monday will be offset by a full week as pandas offsets to the following weekday. The parameter weekday is defined by an integer, where Monday is 0 and Sunday is 6\n",
    "    </p>\n",
    "</details>\n",
    "<details><summary>Hint 2</summary>\n",
    "    <p>\n",
    "        Pandas groupby can be passed a Series not in the DataFrame, e.g. an offset index, and it will then group by the values in that Series\n",
    "    </p>\n",
    "</details>"
   ]
  },
  {
   "cell_type": "code",
   "execution_count": null,
   "metadata": {},
   "outputs": [],
   "source": []
  },
  {
   "cell_type": "markdown",
   "metadata": {},
   "source": [
    "# Assignment 9.3\n",
    "For each calendar month find the date where the most events occurred\n",
    "<details><summary>Hint 1</summary>\n",
    "    <p>\n",
    "        Pandas as an offset object <b>MonthBegin</b>, that offsets a date to the beginning over the month\n",
    "    </p>\n",
    "</details>\n",
    "<details><summary>Hint 2</summary>\n",
    "    <p>\n",
    "        Pandas groupby can be passed a Series not in the DataFrame, e.g. an offset index, and it will then group by the values in that Series\n",
    "    </p>\n",
    "</details>\n",
    "<details><summary>Hint 3</summary>\n",
    "    <p>\n",
    "        A pandas DataFrame has a method <b>nlargest</b> which can return the rows of a columns, that contains the largest values\n",
    "    </p>\n",
    "</details>"
   ]
  },
  {
   "cell_type": "code",
   "execution_count": null,
   "metadata": {},
   "outputs": [],
   "source": []
  },
  {
   "cell_type": "markdown",
   "metadata": {},
   "source": [
    "# Assignment 9.4\n",
    "The event counts in `df_1` signals the number of contacts the business gets in a day. To plan the weekend staffing, the capacity is planned as the average of the week (Monday to Friday) plus one standard deviation for the same period. How many of the weekend days did the number of contacts exceed capacity?\n",
    "<details><summary>Hint 1</summary>\n",
    "    <p>\n",
    "        A DatetimeIndex has the attributes <b>week</b> and <b>dayofweek</b>, that returns the week number and the day of week number, respectively, for each date.\n",
    "    </p>\n",
    "</details>\n",
    "<details><summary>Hint 2</summary>\n",
    "    <p>\n",
    "        Pandas groupby can be passed a Series not in the DataFrame, e.g. an offset index, and it will then group by the values in that Series\n",
    "    </p>\n",
    "</details>"
   ]
  },
  {
   "cell_type": "code",
   "execution_count": null,
   "metadata": {},
   "outputs": [],
   "source": []
  },
  {
   "cell_type": "markdown",
   "metadata": {},
   "source": [
    "# Assignment 9.5\n",
    "Find the daily average of No. Events up until, but not including, the first day that No. Events exceeds 60 for each month.\n",
    "<details><summary>Hint 1</summary>\n",
    "    <p>\n",
    "        Applying the <b>cummax</b> method to a Boolean pandas Series will return 0 up until the first True value, and the return 1 from there on\n",
    "    </p>\n",
    "</details>\n",
    "<details><summary>Hint 2</summary>\n",
    "    <p>\n",
    "        A DatetimeIndex has the attribute <b>month</b>, that returns the month number of each date\n",
    "    </p>\n",
    "</details>\n",
    "<details><summary>Hint 3</summary>\n",
    "    <p>\n",
    "        Pandas groupby can be passed a Series not in the DataFrame, e.g. an offset index, and it will then group by the values in that Series\n",
    "    </p>\n",
    "</details>"
   ]
  },
  {
   "cell_type": "code",
   "execution_count": null,
   "metadata": {},
   "outputs": [],
   "source": []
  }
 ]
}