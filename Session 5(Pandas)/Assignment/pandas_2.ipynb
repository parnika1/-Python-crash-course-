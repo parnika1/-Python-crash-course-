{
 "cells": [
  {
   "cell_type": "code",
   "execution_count": 3,
   "metadata": {},
   "outputs": [
    {
     "ename": "ModuleNotFoundError",
     "evalue": "No module named 'matplotlib'",
     "output_type": "error",
     "traceback": [
      "\u001b[1;31m---------------------------------------------------------------------------\u001b[0m",
      "\u001b[1;31mModuleNotFoundError\u001b[0m                       Traceback (most recent call last)",
      "\u001b[1;32m<ipython-input-3-2f4a61c5eb0c>\u001b[0m in \u001b[0;36m<module>\u001b[1;34m\u001b[0m\n\u001b[0;32m      1\u001b[0m \u001b[1;32mimport\u001b[0m \u001b[0mpandas\u001b[0m \u001b[1;32mas\u001b[0m \u001b[0mpd\u001b[0m\u001b[1;33m\u001b[0m\u001b[1;33m\u001b[0m\u001b[0m\n\u001b[0;32m      2\u001b[0m \u001b[1;32mimport\u001b[0m \u001b[0mnumpy\u001b[0m \u001b[1;32mas\u001b[0m \u001b[0mnp\u001b[0m\u001b[1;33m\u001b[0m\u001b[1;33m\u001b[0m\u001b[0m\n\u001b[1;32m----> 3\u001b[1;33m \u001b[1;32mimport\u001b[0m \u001b[0mseaborn\u001b[0m \u001b[1;32mas\u001b[0m \u001b[0msb\u001b[0m\u001b[1;33m\u001b[0m\u001b[1;33m\u001b[0m\u001b[0m\n\u001b[0m\u001b[0;32m      4\u001b[0m \u001b[1;32mimport\u001b[0m \u001b[0mmatplotlib\u001b[0m\u001b[1;33m.\u001b[0m\u001b[0mpyplot\u001b[0m \u001b[1;32mas\u001b[0m \u001b[0mplt\u001b[0m\u001b[1;33m\u001b[0m\u001b[1;33m\u001b[0m\u001b[0m\n\u001b[0;32m      5\u001b[0m \u001b[0mget_ipython\u001b[0m\u001b[1;33m(\u001b[0m\u001b[1;33m)\u001b[0m\u001b[1;33m.\u001b[0m\u001b[0mrun_line_magic\u001b[0m\u001b[1;33m(\u001b[0m\u001b[1;34m'matplotlib'\u001b[0m\u001b[1;33m,\u001b[0m \u001b[1;34m'inline'\u001b[0m\u001b[1;33m)\u001b[0m\u001b[1;33m\u001b[0m\u001b[1;33m\u001b[0m\u001b[0m\n",
      "\u001b[1;32m~\\AppData\\Local\\Continuum\\anaconda3\\lib\\site-packages\\seaborn\\__init__.py\u001b[0m in \u001b[0;36m<module>\u001b[1;34m\u001b[0m\n\u001b[0;32m      1\u001b[0m \u001b[1;31m# Capture the original matplotlib rcParams\u001b[0m\u001b[1;33m\u001b[0m\u001b[1;33m\u001b[0m\u001b[1;33m\u001b[0m\u001b[0m\n\u001b[1;32m----> 2\u001b[1;33m \u001b[1;32mimport\u001b[0m \u001b[0mmatplotlib\u001b[0m \u001b[1;32mas\u001b[0m \u001b[0mmpl\u001b[0m\u001b[1;33m\u001b[0m\u001b[1;33m\u001b[0m\u001b[0m\n\u001b[0m\u001b[0;32m      3\u001b[0m \u001b[0m_orig_rc_params\u001b[0m \u001b[1;33m=\u001b[0m \u001b[0mmpl\u001b[0m\u001b[1;33m.\u001b[0m\u001b[0mrcParams\u001b[0m\u001b[1;33m.\u001b[0m\u001b[0mcopy\u001b[0m\u001b[1;33m(\u001b[0m\u001b[1;33m)\u001b[0m\u001b[1;33m\u001b[0m\u001b[1;33m\u001b[0m\u001b[0m\n\u001b[0;32m      4\u001b[0m \u001b[1;33m\u001b[0m\u001b[0m\n\u001b[0;32m      5\u001b[0m \u001b[1;31m# Import seaborn objects\u001b[0m\u001b[1;33m\u001b[0m\u001b[1;33m\u001b[0m\u001b[1;33m\u001b[0m\u001b[0m\n",
      "\u001b[1;31mModuleNotFoundError\u001b[0m: No module named 'matplotlib'"
     ]
    }
   ],
   "source": [
    "import pandas as pd\n",
    "import numpy as np\n",
    "import seaborn as sb\n",
    "import matplotlib.pyplot as plt\n",
    "%matplotlib inline"
   ]
  },
  {
   "cell_type": "code",
   "execution_count": 4,
   "metadata": {},
   "outputs": [],
   "source": [
    "np.random.seed(1234)\n",
    "df_1 = pd.DataFrame({'A': ['a', 'b', 'c', 'd']*5,\n",
    "                     'B': np.random.randn(20),\n",
    "                     'C': np.random.randint(7, size=20)})\n",
    "df_2 = pd.read_csv('data/pandas_2_df_2.csv')\n",
    "df_3 = pd.read_csv('data/pandas_2_df_3.csv')\n",
    "df_4 = pd.read_csv('data/pandas_2_df_4.csv')"
   ]
  },
  {
   "cell_type": "markdown",
   "metadata": {},
   "source": [
    "# Assignment 2.1\n",
    "Find the minimum, maximum and median values of all columns for each unique value in column `A` in DataFrame `df_1`.The `groupby` method on a pandas DataFrame has the possibility to group by the index values by using `.groupby(level=0)`\n",
    "<details><summary>Hint 1</summary>\n",
    "    <p>\n",
    "        Use the `groupby` method on a DataFrame to compute aggregate values for each unique value in a column\n",
    "    </p>\n",
    "</details>\n",
    "<details><summary>Hint 2</summary>\n",
    "    <p>\n",
    "        It is possible to apply multiple aggregation functions to a `groupby` object by using the `agg` method and providing the function names as a list of strings\n",
    "    </p>\n",
    "</details>"
   ]
  },
  {
   "cell_type": "code",
   "execution_count": null,
   "metadata": {},
   "outputs": [],
   "source": []
  },
  {
   "cell_type": "markdown",
   "metadata": {},
   "source": [
    "# Assignment 2.2\n",
    "For each unique combination of values from columns `A` and `C`, find the average of the values in column `B`. Return a DataFrame with columns `A`, `B_avg` and `C`, where `B_avg` holds the result of the average over the `B` column, while `A` and `C` hold the values for the unique combinations.\n",
    "<details><summary>Hint 1</summary>\n",
    "    <p>\n",
    "        The `groupby` method on a pandas DataFrame can take a list of column names as input, and will group by every unique combination of values in the listed columns\n",
    "    </p>\n",
    "</details>\n",
    "<details><summary>Hint 2</summary>\n",
    "    <p>\n",
    "        Applying a single aggregate function to a `groupby` object returns a Series. This series has a method `rename` for renaming it\n",
    "    </p>\n",
    "</details>"
   ]
  },
  {
   "cell_type": "code",
   "execution_count": null,
   "metadata": {},
   "outputs": [],
   "source": []
  },
  {
   "cell_type": "markdown",
   "metadata": {},
   "source": [
    "# Assignment 2.3\n",
    "The DataFrame `df_2` contains students' ID (`student_id`), their ID's of the courses (`course_id`) and their grade (`grade`). Compute, for every student, the ratio of grades that are A's or B's.\n",
    "<details><summary>Hint 1</summary>\n",
    "    <p>\n",
    "        The `groupby` method on a pandas DataFrame has the possibility to group by the index values by using `.groupby(level=0)`\n",
    "    </p>\n",
    "</details>\n",
    "<details><summary>Hint 2</summary>\n",
    "    <p>\n",
    "        Applying a numerical aggregate function to a Boolean Series, leads pandas interpreting True as a 1 and False as a 0\n",
    "    </p>\n",
    "</details>\n",
    "<details><summary>Hint 3</summary>\n",
    "    <p>\n",
    "        Setting `student_id` as index to begin with, ensures that a `isin` can be applied to the relevant columns, while avoiding applying it to the `student_id`\n",
    "    </p>\n",
    "</details>"
   ]
  },
  {
   "cell_type": "code",
   "execution_count": null,
   "metadata": {},
   "outputs": [],
   "source": []
  },
  {
   "cell_type": "markdown",
   "metadata": {},
   "source": [
    "# Assignment 2.4\n",
    "The DataFrame `df_3` contains a series of columns named after the pattern `variable name`_`time lag`, e.g. the variable `A` has current time unit's value, plus that of the last three time units, stored in `A_0`, `A_1`, `A_2`, `A_3`. Compute the average over all time lags for every variable name for every record. Return a DataFrame with the `customer_id` as index and the average of every variable as columns.\n",
    "\n",
    "All lag variables in DataFrame ends with _ and a single number.\n",
    "<details><summary>Hint 1</summary>\n",
    "    <p>\n",
    "        It is possible to group by columns by specifying `axis=1` as part of the input to the method\n",
    "    </p>\n",
    "</details>\n",
    "<details><summary>Hint 2</summary>\n",
    "    <p>\n",
    "        One can control which rows or columns are grouped together by supplying a list of values to the `by` parameter in the method\n",
    "    </p>\n",
    "</details>\n",
    "<details><summary>Hint 3</summary>\n",
    "    <p>\n",
    "        The python function `map` can apply a function to every element of a list\n",
    "    </p>\n",
    "</details>"
   ]
  },
  {
   "cell_type": "code",
   "execution_count": null,
   "metadata": {},
   "outputs": [],
   "source": []
  },
  {
   "cell_type": "markdown",
   "metadata": {},
   "source": [
    "# Assignment 2.5\n",
    "All the grades in `df_2` has a grading date in column `grade_date`. Find out which address the grades were sent to after each grading for every student. Use the data in `df_4` to get the address on file for the grading date.\n",
    "\n",
    "Return a DataFrame where each row holds a student ID, the grading date and a list of course IDs graded at that date, along with the address the grades were sent to.\n",
    "<details><summary>Hint 1</summary>\n",
    "    <p>\n",
    "        Pandas Series have the method `shift`, which shifts all values up or down by a certain number of steps. It leaves missing values in the places, where there is no value to shift in\n",
    "    </p>\n",
    "</details>\n",
    "<details><summary>Hint 2</summary>\n",
    "    <p>\n",
    "        Using the `apply` method on a `groupby` object, it is possible to perform manipulations on the DataFrame of values for each of the groups\n",
    "    </p>\n",
    "</details>"
   ]
  },
  {
   "cell_type": "code",
   "execution_count": 6,
   "metadata": {},
   "outputs": [
    {
     "data": {
      "text/html": [
       "<div>\n",
       "<style scoped>\n",
       "    .dataframe tbody tr th:only-of-type {\n",
       "        vertical-align: middle;\n",
       "    }\n",
       "\n",
       "    .dataframe tbody tr th {\n",
       "        vertical-align: top;\n",
       "    }\n",
       "\n",
       "    .dataframe thead th {\n",
       "        text-align: right;\n",
       "    }\n",
       "</style>\n",
       "<table border=\"1\" class=\"dataframe\">\n",
       "  <thead>\n",
       "    <tr style=\"text-align: right;\">\n",
       "      <th></th>\n",
       "      <th>address</th>\n",
       "      <th>student_id</th>\n",
       "      <th>valid_from</th>\n",
       "    </tr>\n",
       "  </thead>\n",
       "  <tbody>\n",
       "    <tr>\n",
       "      <th>0</th>\n",
       "      <td>26796 Alan Route Suite 700, Jessicaside, WY 07...</td>\n",
       "      <td>1</td>\n",
       "      <td>2011-07-01</td>\n",
       "    </tr>\n",
       "    <tr>\n",
       "      <th>1</th>\n",
       "      <td>8110 Karen Junction Suite 900, West Anthony, N...</td>\n",
       "      <td>1</td>\n",
       "      <td>2011-12-19</td>\n",
       "    </tr>\n",
       "    <tr>\n",
       "      <th>2</th>\n",
       "      <td>1144 Deborah Center Suite 114, West Erikastad,...</td>\n",
       "      <td>2</td>\n",
       "      <td>2011-01-01</td>\n",
       "    </tr>\n",
       "    <tr>\n",
       "      <th>3</th>\n",
       "      <td>611 Warner Forge Apt. 049, East Jerome, MH 142...</td>\n",
       "      <td>2</td>\n",
       "      <td>2011-11-03</td>\n",
       "    </tr>\n",
       "    <tr>\n",
       "      <th>4</th>\n",
       "      <td>623 Alan Key, West Anthonyberg, IL 17494</td>\n",
       "      <td>2</td>\n",
       "      <td>2012-05-17</td>\n",
       "    </tr>\n",
       "  </tbody>\n",
       "</table>\n",
       "</div>"
      ],
      "text/plain": [
       "                                             address  student_id  valid_from\n",
       "0  26796 Alan Route Suite 700, Jessicaside, WY 07...           1  2011-07-01\n",
       "1  8110 Karen Junction Suite 900, West Anthony, N...           1  2011-12-19\n",
       "2  1144 Deborah Center Suite 114, West Erikastad,...           2  2011-01-01\n",
       "3  611 Warner Forge Apt. 049, East Jerome, MH 142...           2  2011-11-03\n",
       "4           623 Alan Key, West Anthonyberg, IL 17494           2  2012-05-17"
      ]
     },
     "execution_count": 6,
     "metadata": {},
     "output_type": "execute_result"
    }
   ],
   "source": [
    "df_4.head()"
   ]
  },
  {
   "cell_type": "code",
   "execution_count": null,
   "metadata": {},
   "outputs": [],
   "source": []
  }
 ],
 "metadata": {
  "kernelspec": {
   "display_name": "Python 3",
   "language": "python",
   "name": "python3"
  },
  "language_info": {
   "codemirror_mode": {
    "name": "ipython",
    "version": 3
   },
   "file_extension": ".py",
   "mimetype": "text/x-python",
   "name": "python",
   "nbconvert_exporter": "python",
   "pygments_lexer": "ipython3",
   "version": "3.7.1"
  }
 },
 "nbformat": 4,
 "nbformat_minor": 2
}
