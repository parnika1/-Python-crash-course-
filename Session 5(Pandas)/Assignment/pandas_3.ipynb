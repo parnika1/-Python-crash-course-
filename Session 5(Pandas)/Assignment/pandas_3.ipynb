{
 "cells": [
  {
   "cell_type": "code",
   "execution_count": null,
   "metadata": {},
   "outputs": [],
   "source": [
    "import pandas as pd\n",
    "import numpy as np\n",
    "import seaborn as sb\n",
    "import matplotlib.pyplot as plt\n",
    "%matplotlib inline\n",
    "sb.set()"
   ]
  },
  {
   "cell_type": "code",
   "execution_count": null,
   "metadata": {},
   "outputs": [],
   "source": [
    "np.random.seed(42)\n",
    "df_1 = pd.DataFrame({'PersonID':np.random.randint(5, size=10),\n",
    "                     'FoodID':np.random.randint(4, size=10)})\n",
    "df_2 = pd.DataFrame({'PersonID':np.random.randint(5, size=10)+5,\n",
    "                     'FoodID':np.random.randint(4, size=10)})\n",
    "df_3 = pd.DataFrame([[0,'Ham', True, True],\n",
    "                     [1, 'Spam', False, False],\n",
    "                     [2, 'Cheese', False, True]],\n",
    "                    columns=['ID', 'Name', 'Meat', 'Food'])\n",
    "df_4 = pd.DataFrame([[i,j]\n",
    "                     for i in df_1['PersonID'].unique()\n",
    "                     for j in df_2['PersonID'].unique()],\n",
    "                    columns=['PersonID_1', 'PersonID_2'])\n",
    "df_4['Success'] = np.random.randint(2,size=df_4.shape[0]).astype('bool')\n",
    "df_5 = pd.DataFrame({'PersonID': np.arange(10),\n",
    "                     'Lottery_Tickets': np.random.randint(6, size=10)})"
   ]
  },
  {
   "cell_type": "markdown",
   "metadata": {},
   "source": [
    "# Assignment 3.1\n",
    "The DataFrames `df_1` and `df_2` hold data of the same type. Concatenate the two DataFrames to create a new DataFrame with the same columns as `df_1` and `df_2`, but with the combined number of rows.\n",
    "<details><summary>Hint 1</summary>\n",
    "    <p>\n",
    "        The pandas function `concat` can concatenate a list of DataFrames\n",
    "    </p>\n",
    "</details>\n",
    "<details><summary>Hint 2</summary>\n",
    "    <p>\n",
    "        The `ignore_index` parameter can be set to ignore the original index\n",
    "    </p>\n",
    "</details>"
   ]
  },
  {
   "cell_type": "code",
   "execution_count": null,
   "metadata": {},
   "outputs": [],
   "source": []
  },
  {
   "cell_type": "markdown",
   "metadata": {},
   "source": [
    "# Assignment 3.2\n",
    "Find all unique combinations of `PersonID` in `df_1` and `PersonID` in `df_2`, that shares a `FoodID`.\n",
    "<details><summary>Hint 1</summary>\n",
    "    <p>\n",
    "        The pandas function `merge` performs an inner join \n",
    "    </p>\n",
    "</details>\n",
    "<details><summary>Hint 2</summary>\n",
    "    <p>\n",
    "        A pandas DataFrame has the method `drop_duplicates` for dropping duplicate rows\n",
    "    </p>\n",
    "</details>"
   ]
  },
  {
   "cell_type": "code",
   "execution_count": null,
   "metadata": {},
   "outputs": [],
   "source": []
  },
  {
   "cell_type": "markdown",
   "metadata": {},
   "source": [
    "# Assignment 3.3\n",
    "Join the food information in `df_3` onto `df_1` using a left outer join, i.e. keep all rows from `df_1` and add the columns from `df_3`, where there is a match\n",
    "<details><summary>Hint 1</summary>\n",
    "    <p>\n",
    "        The `merge` function has a `how` parameter, which controls the type of join used \n",
    "    </p>\n",
    "</details>\n",
    "<details><summary>Hint 2</summary>\n",
    "    <p>\n",
    "        When joining on columns of different names, use the parameters `left_on` and `right_on` to specify the join columns\n",
    "    </p>\n",
    "</details>"
   ]
  },
  {
   "cell_type": "code",
   "execution_count": null,
   "metadata": {},
   "outputs": [],
   "source": []
  },
  {
   "cell_type": "markdown",
   "metadata": {},
   "source": [
    "# Assignment 3.4\n",
    "Starting from the result in Assignment 3.2, join the DataFrame `df_4` onto it and select only the rows that have `Success=True`"
   ]
  },
  {
   "cell_type": "code",
   "execution_count": null,
   "metadata": {},
   "outputs": [],
   "source": []
  },
  {
   "cell_type": "markdown",
   "metadata": {},
   "source": [
    "# Assignment 3.5\n",
    "Using the result from Assignment 3.4, select two of the person pairings at random. The probability of choosing a paring should be the pair's combined number of lottery tickets, given in `df_5`."
   ]
  },
  {
   "cell_type": "code",
   "execution_count": null,
   "metadata": {},
   "outputs": [],
   "source": []
  }
 ],
 "metadata": {
  "kernelspec": {
   "display_name": "Python 3",
   "language": "python",
   "name": "python3"
  },
  "language_info": {
   "codemirror_mode": {
    "name": "ipython",
    "version": 3
   },
   "file_extension": ".py",
   "mimetype": "text/x-python",
   "name": "python",
   "nbconvert_exporter": "python",
   "pygments_lexer": "ipython3",
   "version": "3.7.1"
  }
 },
 "nbformat": 4,
 "nbformat_minor": 2
}
