{
 "cells": [
  {
   "cell_type": "code",
   "execution_count": null,
   "metadata": {},
   "outputs": [],
   "source": [
    "import pandas as pd\n",
    "import numpy as np\n",
    "import seaborn as sb\n",
    "import matplotlib.pyplot as plt\n",
    "%matplotlib inline\n",
    "sb.set()"
   ]
  },
  {
   "cell_type": "code",
   "execution_count": null,
   "metadata": {},
   "outputs": [],
   "source": [
    "np.random.seed(235623)\n",
    "# Generate random data\n",
    "tmp = np.random.randn(400)\n",
    "# Set some of the data as missing\n",
    "tmp[np.random.randint(400,size=79)] = None\n",
    "df_1 = (pd.DataFrame(np.reshape(tmp,(100,4)),\n",
    "                     columns=['col_1', 'col_2', 'col_3', 'col_4'])\n",
    "        .assign(cust_id=np.random.randint(10,size=100),\n",
    "                date=pd.to_datetime('2013-01-01')+pd.to_timedelta(np.random.randint(1000, size=100), unit='d')))\n"
   ]
  },
  {
   "cell_type": "markdown",
   "metadata": {},
   "source": [
    "# Assignment 4.1\n",
    "Calculate the average value of columns `col_1`, `col_2`, `col_3` and `col_4` for each `cust_id`. Insert a `NaN` if at least one of the values in a column is missing for that `cust_id`\n",
    "<details><summary>Hint 1</summary>\n",
    "    <p>\n",
    "        A pandas groupby object has an `apply` method, that can apply a function to the entire grouping. This function takes in a DataFrame and returns a DataFrame\n",
    "    </p>\n",
    "</details>\n",
    "<details><summary>Hint 2</summary>\n",
    "    <p>\n",
    "        The `mean` method on a DataFrame has the parameter `skipna`, which sets whether missing values should be ignored or not\n",
    "    </p>\n",
    "</details>"
   ]
  },
  {
   "cell_type": "code",
   "execution_count": null,
   "metadata": {},
   "outputs": [],
   "source": []
  },
  {
   "cell_type": "markdown",
   "metadata": {},
   "source": [
    "# Assignment 4.2\n",
    "Create DataFrame `df_2` with columns\n",
    "* `cust_id` matching the `cust_id` column in `df_1`\n",
    "* `date` matching the `date` column in `df_1`\n",
    "* `col_2` as the sum of `col_1` and `col_2` from `df_1`. All rows where either of the two values in the sum is missing should be replaced by 0\n",
    "* `col_3` as the product of `col_3` and `col_4` from `df_1`. All rows where either of the two values in the sum is missing should be replaced by 1\n",
    "<details><summary>Hint 1</summary>\n",
    "    <p>\n",
    "        The method `fillna` can be used to fill in missing values. It either takes a single value or a dictionary with column names as keys and fill values as values\n",
    "    </p>\n",
    "</details>"
   ]
  },
  {
   "cell_type": "code",
   "execution_count": null,
   "metadata": {},
   "outputs": [],
   "source": []
  },
  {
   "cell_type": "markdown",
   "metadata": {},
   "source": [
    "# Assignment 4.3\n",
    "Find the average number of missing values in a row for each `cust_id`\n",
    "<details><summary>Hint 1</summary>\n",
    "    <p>\n",
    "        The `isnull` method return a Boolean value for each element in the DataFrame, indicating whether or not the element's value is missing\n",
    "    </p>\n",
    "</details>\n",
    "<details><summary>Hint 2</summary>\n",
    "    <p>\n",
    "        Summations in Python treat Boolean values as 0 for `False` and 1 for `True`\n",
    "    </p>\n",
    "</details>"
   ]
  },
  {
   "cell_type": "code",
   "execution_count": null,
   "metadata": {},
   "outputs": [],
   "source": []
  },
  {
   "cell_type": "markdown",
   "metadata": {},
   "source": [
    "# Assignment 4.4\n",
    "For each `cust_id` order the rows by ascending `date` and fill out missing values with the value in the previous row for that customer. If the first row for a `cust_id` has missing values, fill those with 0.\n",
    "<details><summary>Hint 1</summary>\n",
    "    <p>\n",
    "        The `fillna` method has a method `ffill`, that fills in the previous column value instead of a missing value\n",
    "    </p>\n",
    "</details>\n",
    "<details><summary>Hint 2</summary>\n",
    "    <p>\n",
    "        Use `iloc` to access rows and columns by using the relative position in the DataFrame, rather than accessing values by row and column indices\n",
    "    </p>\n",
    "</details>"
   ]
  },
  {
   "cell_type": "code",
   "execution_count": null,
   "metadata": {},
   "outputs": [],
   "source": []
  },
  {
   "cell_type": "markdown",
   "metadata": {},
   "source": [
    "# Assignment 4.5\n",
    "Reorder the columns in `df_2` to match those in `df_1`, inserting columns of missing values for all column names not already in `df_2`.\n",
    "<details><summary>Hint 1</summary>\n",
    "    <p>\n",
    "        The `reindex` method reorders columns and inserts missing values\n",
    "    </p>\n",
    "</details>"
   ]
  },
  {
   "cell_type": "code",
   "execution_count": null,
   "metadata": {},
   "outputs": [],
   "source": []
  }
 ],
 "metadata": {
  "kernelspec": {
   "display_name": "Python 3",
   "language": "python",
   "name": "python3"
  },
  "language_info": {
   "codemirror_mode": {
    "name": "ipython",
    "version": 3
   },
   "file_extension": ".py",
   "mimetype": "text/x-python",
   "name": "python",
   "nbconvert_exporter": "python",
   "pygments_lexer": "ipython3",
   "version": "3.7.1"
  }
 },
 "nbformat": 4,
 "nbformat_minor": 2
}
