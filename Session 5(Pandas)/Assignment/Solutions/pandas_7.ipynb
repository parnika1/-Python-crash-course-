{
 "nbformat": 4,
 "nbformat_minor": 2,
 "metadata": {
  "kernelspec": {
   "display_name": "Python 3",
   "language": "python",
   "name": "python3"
  }
 },
 "cells": [
  {
   "cell_type": "code",
   "execution_count": null,
   "metadata": {},
   "outputs": [],
   "source": [
    "import pandas as pd\n",
    "import numpy as np\n",
    "import seaborn as sns\n",
    "sns.set()\n",
    "%matplotlib inline"
   ]
  },
  {
   "cell_type": "code",
   "execution_count": null,
   "metadata": {},
   "outputs": [],
   "source": [
    "np.random.seed(123467)\n",
    "cuts=np.sort(np.random.randint(0,140,19))\n",
    "cuts=np.append([0],np.append(cuts,[140]))\n",
    "cuts = cuts[1:]-cuts[:-1]\n",
    "df_1 = pd.DataFrame(np.cumprod(1-np.repeat(np.random.randint(-5,6,20), cuts)/10), columns=['Level'])\n",
    "df_2 = pd.DataFrame({'year':2011,\n",
    "              'month': 6,\n",
    "              'day':[21]*12+[22]*6,\n",
    "              'hour':list(range(0,24,2))+list(range(0,11,2)),\n",
    "              'threshold':np.random.randint(0,90,size=18)/100})"
   ]
  },
  {
   "cell_type": "markdown",
   "metadata": {},
   "source": [
    "# Assignment 7.1\n",
    "The DataFrame `df_1` contains measurements of power levels taken at fifteen minute intervals. The measurements started on Jun 21, 2011 at midnight. Create a datetime index for the DataFrame, labeling each observation with its observation time.\n",
    "<details><summary>Hint 1</summary>\n",
    "    <p>\n",
    "        Pandas has the function `data_range`, that can generate a DataTimeIndex\n",
    "    </p>\n",
    "</details>\n",
    "<details><summary>Hint 2</summary>\n",
    "    <p>\n",
    "        A new index can be assigned to a DataFrame by assigning it to the `index` attribute of the DataFrame\n",
    "    </p>\n",
    "</details>"
   ]
  },
  {
   "cell_type": "code",
   "execution_count": null,
   "metadata": {},
   "outputs": [],
   "source": [
    "df_1.index = pd.date_range('21/6/2011', periods=df_1.shape[0], freq='15Min')"
   ]
  },
  {
   "cell_type": "markdown",
   "metadata": {},
   "source": [
    "# Assignment 7.2\n",
    "The DataFrame `df_2` contains the policy date for the threshold of the power level. The dates and times for the threshold is spread over the columns `year`, `month`, `day` and `hour`. Create a pandas Series that has the datetime stamp as index and the threshold as values\n",
    "<details><summary>Hint 1</summary>\n",
    "    <p>\n",
    "        The pandas function `to_datetime` can transform appropriately named columns in a DataFrame to a DateTimeIndex\n",
    "    </p>\n",
    "</details>"
   ]
  },
  {
   "cell_type": "code",
   "execution_count": null,
   "metadata": {},
   "outputs": [],
   "source": [
    "df_2.index = pd.to_datetime(df_2.drop('threshold', axis=1))\n",
    "df_2 = df_2['threshold']"
   ]
  },
  {
   "cell_type": "markdown",
   "metadata": {},
   "source": [
    "# Assignment 7.3\n",
    "The datetime stamp of the threshold indicates the start time of the threshold. We wish to investigate when the level in `df_1` rises above the threshold in `df_2`. Convert `df_2` to have records at 15 minute interval, filling in the current value of the threshold for the newly created records.\n",
    "<details><summary>Hint 1</summary>\n",
    "    <p>\n",
    "        The frequency of a DataFrame with a DateTimeIndex can be changed with the method `asfreq`\n",
    "    </p>\n",
    "</details>\n",
    "<details><summary>Hint 1</summary>\n",
    "    <p>\n",
    "        Fill methods `ffill` and `pad` both fill missing values with the last known value\n",
    "    </p>\n",
    "</details>"
   ]
  },
  {
   "cell_type": "code",
   "execution_count": null,
   "metadata": {},
   "outputs": [],
   "source": [
    "df_2 = df_2.asfreq('15Min', method='ffill')"
   ]
  },
  {
   "cell_type": "markdown",
   "metadata": {},
   "source": [
    "# Assignment 7.4\n",
    "Calculate how many minute the level in `df_1` was above the set threshold in `df_2` for the observations between 22:00 and 6:00.\n",
    "<details><summary>Hint 1</summary>\n",
    "    <p>\n",
    "        The method `between_time` makes it possible to set a start and an end time for filtering a DataFrame. A filter set on a time interval is repeated for every date in the DateTimeIndex\n",
    "    </p>\n",
    "</details>"
   ]
  },
  {
   "cell_type": "code",
   "execution_count": null,
   "metadata": {},
   "outputs": [],
   "source": [
    "df_1.merge(df_2.to_frame(), right_index=True, left_index=True).assign(above=lambda r: r['Level']>r['threshold'])['above'].between_time(start_time='22:00', end_time='06:00').sum()*15"
   ]
  },
  {
   "cell_type": "markdown",
   "metadata": {},
   "source": [
    "# Assignment 7.5\n",
    "Find the length of the longest period, where the rate of change for the Level in `df_1` is growing. That is the longest period where the second derivative\n",
    "$$\n",
    "\\frac{\\Delta^2f}{\\Delta t^2} = \\frac{\\frac{f(t_n)-f(t_{n-1})}{t_n-t_{n-1}}-\\frac{f(t_{n-1})-f(t_{n-2})}{t_{n-1}-t_{n-2}}}{t_n-t_{n-1}}\n",
    "$$\n",
    "is greater than zero.\n",
    "<details><summary>Hint 1</summary>\n",
    "    <p>\n",
    "        Both DataFrames and Series have the method `rolling`, that allows you to apply a function to a rolling subset of the rows.\n",
    "    </p>\n",
    "</details>\n",
    "<details><summary>Hint 2</summary>\n",
    "    <p>\n",
    "        A cummulative sum over a boolean Series can be used to group records together. All `False` values will be in the same group as the last `True` before them.\n",
    "    </p>\n",
    "</details>"
   ]
  },
  {
   "cell_type": "code",
   "execution_count": null,
   "metadata": {},
   "outputs": [],
   "source": [
    "def deriv(s):\n",
    "    return (s.iloc[1]-s.iloc[0])/(s.index[1]-s.index[0]).seconds\n",
    "\n",
    "def second_deriv(s):\n",
    "    return (deriv(s.iloc[1:3])-deriv(s.iloc[:2]))/(s.index[2]-s.index[1]).seconds\n",
    "\n",
    "gt_zero = df_1['Level'].rolling(3, min_periods=3).apply(second_deriv, raw=False)>0\n",
    "\n",
    "gt_zero[gt_zero].groupby((~gt_zero).cumsum()[gt_zero]).size().max()"
   ]
  }
 ]
}