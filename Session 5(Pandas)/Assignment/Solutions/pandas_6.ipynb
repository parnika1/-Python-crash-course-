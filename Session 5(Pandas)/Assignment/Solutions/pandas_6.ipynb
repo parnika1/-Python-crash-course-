{
 "nbformat": 4,
 "nbformat_minor": 2,
 "metadata": {
  "kernelspec": {
   "display_name": "Python 3",
   "language": "python",
   "name": "python3"
  }
 },
 "cells": [
  {
   "cell_type": "code",
   "execution_count": null,
   "metadata": {},
   "outputs": [],
   "source": [
    "import pandas as pd\n",
    "import numpy as np\n",
    "import seaborn as sns\n",
    "import matplotlib.pyplot as plt\n",
    "sns.set()\n",
    "%matplotlib inline"
   ]
  },
  {
   "cell_type": "code",
   "execution_count": null,
   "metadata": {},
   "outputs": [],
   "source": [
    "np.random.seed(2355478)\n",
    "tmp = np.random.poisson(lam=57.3, size=365*10*4)\n",
    "tmp[np.random.choice(np.arange(tmp.shape[0]),size=365*32, replace=False)] = 0\n",
    "df = pd.DataFrame(tmp.reshape((40,365)),\n",
    "                  index=pd.MultiIndex.from_product([np.arange(1,11),np.arange(4)], names=['Customer','Product']),\n",
    "                  columns=pd.date_range(start='2017-01-01', end='2017-12-31'))"
   ]
  },
  {
   "cell_type": "markdown",
   "metadata": {},
   "source": [
    "# Assignment 6.1\n",
    "The DataFrame `df` holds the customers spend on a daily basis for a number of products. The column names are the individual dates in 2017, while the index values are the combinations of customer IDs and product IDs.\n",
    "\n",
    "Find the average amount spent by a customer between 2017-04-02 and 2017-08-17, both dates included.\n",
    "<details><summary>Hint 1</summary>\n",
    "    <p>\n",
    "        Entering a start and end date separated by `:` in the `loc` method can be used to select a range of dates. Each date should be a string in the `YYYY-MM-DD` format\n",
    "    </p>\n",
    "</details>\n",
    "<details><summary>Hint 2</summary>\n",
    "    <p>\n",
    "        Grouping by `Customer` and then summing twice, once over products and once of dates, gives the total amount spent for each customer in the time period\n",
    "    </p>\n",
    "</details>"
   ]
  },
  {
   "cell_type": "code",
   "execution_count": null,
   "metadata": {},
   "outputs": [],
   "source": [
    "df.loc[:,'2017-04-02':'2017-08-17'].groupby('Customer').sum().sum(axis=1).mean()"
   ]
  },
  {
   "cell_type": "markdown",
   "metadata": {},
   "source": [
    "# Assignment 6.2\n",
    "Using the DataFrame `df` again, find the total monthly spend per product. Return a DataFrame where the index is the product ID and the columns are the month number\n",
    "<details><summary>Hint 1</summary>\n",
    "    <p>\n",
    "        A specific aggregation function can be set for the DataFrame method `pivot_table`.\n",
    "    </p>\n",
    "</details>\n",
    "<details><summary>Hint 2</summary>\n",
    "    <p>\n",
    "        The `melt` method can transform a DataFrame from a wide format to a long format, making it easier manipulate multiple columns at the same time\n",
    "    </p>\n",
    "</details>\n",
    "<details><summary>Hint 3</summary>\n",
    "    <p>\n",
    "        The `id_vars` parameter can be set to prevent some columns from being melted\n",
    "    </p>\n",
    "</details>\n",
    "<details><summary>Hint 4</summary>\n",
    "    <p>\n",
    "        The `dt.month` attribute can be used to extract the month from a column containing datetime values\n",
    "    </p>\n",
    "</details>"
   ]
  },
  {
   "cell_type": "code",
   "execution_count": null,
   "metadata": {},
   "outputs": [],
   "source": [
    "tmp = df.reset_index().melt(id_vars=df.index.names)\n",
    "tmp['month'] = tmp['variable'].dt.month\n",
    "tmp.pivot_table(index='Product', columns='month', values='value', aggfunc='sum')"
   ]
  },
  {
   "cell_type": "markdown",
   "metadata": {},
   "source": [
    "# Assignment 6.3\n",
    "Find the average spend of the first three transactions (days with spend larger than zero) on a product for each customer. Create a DataFrame with the result, where the Customer ID is the index and the Product ID is the column name\n",
    "<details><summary>Hint 1</summary>\n",
    "    <p>\n",
    "        The `head` method can be applied to a GroupBy object to get the first records for every unique combination of the grouping variables\n",
    "    </p>\n",
    "</details>\n",
    "<details><summary>Hint 2</summary>\n",
    "    <p>\n",
    "        After melting the DataFrame the days without transactions can be removed by only taking the rows with `value` > 0\n",
    "    </p>\n",
    "</details>\n",
    "<details><summary>Hint 3</summary>\n",
    "    <p>\n",
    "        The default aggregation function for the `pivot_table` method is a mean over the values\n",
    "    </p>\n",
    "</details>"
   ]
  },
  {
   "cell_type": "code",
   "execution_count": null,
   "metadata": {},
   "outputs": [],
   "source": [
    "tmp = df.reset_index().melt(id_vars=df.index.names).sort_values('variable')\n",
    "(tmp[tmp['value']>0]\n",
    " .groupby(['Customer', 'Product'],\n",
    "          as_index=False)\n",
    " .head(3)\n",
    " .pivot_table(values='value',\n",
    "              index='Customer',\n",
    "              columns='Product'))"
   ]
  },
  {
   "cell_type": "markdown",
   "metadata": {},
   "source": [
    "# Assignment 6.4\n",
    "Find the average days between purchases of a product for each customer. Return the result as a DataFrame with the Customer ID as index and the Product ID as column name\n",
    "<details><summary>Hint 1</summary>\n",
    "    <p>\n",
    "        The `shift` method for a pandas Series moves all values up or down according to the parameter passed to it\n",
    "    </p>\n",
    "</details>\n",
    "<details><summary>Hint 2</summary>\n",
    "    <p>\n",
    "        Using the `apply` method on a GroupBy object makes it possible to apply a function to the DataFrame made up of the records in each of the groups\n",
    "    </p>\n",
    "</details>\n",
    "<details><summary>Hint 3</summary>\n",
    "    <p>\n",
    "        The DataFrame method `pivot` is a short-hand version of `pivot_table`, that does not support aggregation. Serves as a check that the assumption of uniquenes in the combination of row and column index is valid\n",
    "    </p>\n",
    "</details>"
   ]
  },
  {
   "cell_type": "code",
   "execution_count": null,
   "metadata": {},
   "outputs": [],
   "source": [
    "tmp = df.reset_index().melt(id_vars=df.index.names)\n",
    "(tmp[tmp['value']>0]\n",
    " .groupby(['Customer', 'Product'])\n",
    " .apply(lambda d: (d['variable'].shift(-1)-d['variable']).dt.days.mean())\n",
    " .rename('Days between purchases')\n",
    " .reset_index()\n",
    " .pivot(index='Customer',\n",
    "        columns='Product',\n",
    "        values='Days between purchases'))"
   ]
  },
  {
   "cell_type": "markdown",
   "metadata": {},
   "source": [
    "# Assignment 6.5\n",
    "Create a DataFrame showing the product ID, where a customer has spent the greatest amount of money for each month. Set the Customer IDs as index and the month number as columns. \n",
    "<details><summary>Hint 1</summary>\n",
    "    <p>\n",
    "        Calculate how much each customer has spent on a product in a given month\n",
    "    </p>\n",
    "</details>\n",
    "<details><summary>Hint 2</summary>\n",
    "    <p>\n",
    "        Find the maximum spend for a customer in a month and join it onto the result from the previous hint\n",
    "    </p>\n",
    "</details>\n",
    "<details><summary>Hint 3</summary>\n",
    "    <p>\n",
    "        Use the maximum spend to filter the DataFrame to one row for every unique combination of `Customer` and `month`, before applying the `pivot` method\n",
    "    </p>\n",
    "</details>"
   ]
  },
  {
   "cell_type": "code",
   "execution_count": null,
   "metadata": {},
   "outputs": [],
   "source": [
    "tmp = df.reset_index().melt(id_vars=df.index.names)\n",
    "tmp['month'] = tmp['variable'].dt.month\n",
    "cust_prod_spend_per_month = tmp.groupby(['Customer', 'Product', 'month'])['value'].sum().reset_index()\n",
    "cust_prod_spend_per_month = (cust_prod_spend_per_month\n",
    "                             .merge(cust_prod_spend_per_month\n",
    "                                    .groupby(['Customer', 'month'])['value']\n",
    "                                    .max()\n",
    "                                    .rename('max_value')\n",
    "                                    .to_frame(),\n",
    "                                    left_on=['Customer','month'],\n",
    "                                    right_index=True))\n",
    "(cust_prod_spend_per_month[cust_prod_spend_per_month['value'] == cust_prod_spend_per_month['max_value']]\n",
    " .pivot(index='Customer',\n",
    "        columns='month',\n",
    "        values='Product'))"
   ]
  }
 ]
}