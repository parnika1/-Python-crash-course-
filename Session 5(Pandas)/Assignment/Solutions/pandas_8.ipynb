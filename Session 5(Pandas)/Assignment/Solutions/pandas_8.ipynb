{
 "nbformat": 4,
 "nbformat_minor": 2,
 "metadata": {
  "kernelspec": {
   "display_name": "Python 3",
   "language": "python",
   "name": "python3"
  }
 },
 "cells": [
  {
   "cell_type": "code",
   "execution_count": null,
   "metadata": {},
   "outputs": [],
   "source": [
    "import pandas as pd\n",
    "import numpy as np\n",
    "import matplotlib.pyplot as plt\n",
    "import seaborn as sns\n",
    "sns.set()\n",
    "%matplotlib inline"
   ]
  },
  {
   "cell_type": "code",
   "execution_count": null,
   "metadata": {},
   "outputs": [],
   "source": [
    "np.random.seed(180180)\n",
    "df_1 = pd.DataFrame({'Payment': np.random.poisson(lam=357, size=60)})\n",
    "df_2 = pd.DataFrame({'Payment': np.random.poisson(lam=600, size=38)})"
   ]
  },
  {
   "cell_type": "markdown",
   "metadata": {},
   "source": [
    "# Assignment 8.1\n",
    "The DataFrame `df_1` is a collection of payments done by a customer. The payments have been made on all business days with the last payment of the DataFrame being made on Sep 4, 2018. Create a DatetimeIndex for the DataFrame, where the date matches the payment date.\n",
    "<details><summary>Hint 1</summary>\n",
    "    <p>\n",
    "        When creating a DatetimeIndex, it is possible to set the frequency to <b>B</b> for business days\n",
    "    </p>\n",
    "</details>\n",
    "<details><summary>Hint 2</summary>\n",
    "    <p>\n",
    "        A DatetimeIndex can be specified with a start and/or an end datetime\n",
    "    </p>\n",
    "</details>\n",
    "<details><summary>Hint 3</summary>\n",
    "    <p>\n",
    "        The index of a DataFrame can be set by assigning an Index object to the <b>index</b> attribute of the DataFrame\n",
    "    </p>\n",
    "</details>"
   ]
  },
  {
   "cell_type": "code",
   "execution_count": null,
   "metadata": {},
   "outputs": [],
   "source": [
    "df_1.index = pd.DatetimeIndex(end='2018-09-04', periods=df_1.shape[0], freq='B')"
   ]
  },
  {
   "cell_type": "markdown",
   "metadata": {},
   "source": [
    "# Assignment 8.2\n",
    "The DataFrame `df_2` is likewise a collection of payments. These are, however, only made on Tuesdays, Saturdays and Sundays. Create a DatetimeIndex for this DataFrame, where the date matches the payment date.\n",
    "<details><summary>Hint 1</summary>\n",
    "    <p>\n",
    "        Only using specific weekdays is possible through creating a custom business day (<b>pandas.tseries.offsets.CustomBusinessDay</b>) and setting a <b>weekmask</b>\n",
    "    </p>\n",
    "</details>\n",
    "<details><summary>Hint 2</summary>\n",
    "    <p>\n",
    "        A DatetimeIndex can be specified with a start and/or an end datetime\n",
    "    </p>\n",
    "</details>\n",
    "<details><summary>Hint 3</summary>\n",
    "    <p>\n",
    "        The index of a DataFrame can be set by assigning an Index object to the <b>index</b> attribute of the DataFrame\n",
    "    </p>\n",
    "</details>"
   ]
  },
  {
   "cell_type": "code",
   "execution_count": null,
   "metadata": {},
   "outputs": [],
   "source": [
    "df_2.index = pd.DatetimeIndex(start='2018-06-10', end='2018-09-04', freq=pd.tseries.offsets.CustomBusinessDay(weekmask='Tue Sat Sun'))"
   ]
  },
  {
   "cell_type": "markdown",
   "metadata": {},
   "source": [
    "# Assignment 8.3\n",
    "Find out which of the two DataFrames (`df_1` or `df_2`), that holds the largest sum paid for June 2018.\n",
    "<details><summary>Hint 1</summary>\n",
    "    <p>\n",
    "        It is possible to specify a subsample of a time series by parsing a part of the date, i.e. <b>YYYY-MM</b> for the year/month part\n",
    "    </p>\n",
    "</details>"
   ]
  },
  {
   "cell_type": "code",
   "execution_count": null,
   "metadata": {},
   "outputs": [],
   "source": [
    "['df_1','df_2'][np.argmax((df_1['2018-06'].sum(),df_2['2018-06'].sum()))]"
   ]
  },
  {
   "cell_type": "markdown",
   "metadata": {},
   "source": [
    "# Assignment 8.4\n",
    "Find the month/year values between Jan 1, 2011 and Dec 31, 2018 where the last day of the month is a Sunday.\n",
    "<details><summary>Hint 1</summary>\n",
    "    <p>\n",
    "        Creating a DatetimeIndex with frequency <b>M</b> creates values at the end of the month\n",
    "    </p>\n",
    "</details>\n",
    "<details><summary>Hint 1</summary>\n",
    "    <p>\n",
    "        A DatetimeIndex has a <b>dayofweek</b> attribute, that is <b>0</b> for Monday and <b>6</b> for Sunday\n",
    "    </p>\n",
    "</details>"
   ]
  },
  {
   "cell_type": "code",
   "execution_count": null,
   "metadata": {},
   "outputs": [],
   "source": [
    "eom = pd.DatetimeIndex(start='2011-01-01', end='2018-12-31', freq='M')\n",
    "eom[eom.dayofweek==6].to_series().apply(lambda d: d.strftime('%Y-%m')).values"
   ]
  },
  {
   "cell_type": "markdown",
   "metadata": {},
   "source": [
    "# Assignment 8.5\n",
    "The payments in `df_1` represents savings for an investment scheme. The account balance is 0 at the time of the first payment and every Sunday the maximum number of shares is bought. The price of each share is always 1000. Calculate the average daily account balance for the period between the date of the first payment and Sep 4, 2018.\n",
    "<details><summary>Hint 1</summary>\n",
    "    <p>\n",
    "        The method <b>resample</b> can aggregate a timeseries to a different unit of time.\n",
    "    </p>\n",
    "</details>\n",
    "<details><summary>Hint 2</summary>\n",
    "    <p>\n",
    "        The <b>expanding</b> method creates an expanding window, allowing us to compute a value over all entries from the first to the current.\n",
    "    </p>\n",
    "</details>\n",
    "<details><summary>Hint 3</summary>\n",
    "    <p>\n",
    "        Using <b>asfreq</b> to bring the total invested amount and a cummulative sum of the payments to a daily level, allows us to do a left join and compute the difference between total amount paid and total amount invested for any date.\n",
    "    </p>\n",
    "</details>"
   ]
  },
  {
   "cell_type": "code",
   "execution_count": null,
   "metadata": {},
   "outputs": [],
   "source": [
    "amount_invested = df_1.resample('W').sum().expanding().apply(lambda s: 1000*(s.sum()//1000), raw=True).asfreq('D', method='ffill')[:'2018-09-04'].rename({'Payment':'Invested'}, axis=1)\n",
    "\n",
    "df_1.asfreq('D').fillna(0).cumsum().merge(amount_invested, left_index=True, right_index=True, how='left').fillna(0).assign(balance=lambda r: r['Payment']-r['Invested'])['balance'].mean()"
   ]
  }
 ]
}