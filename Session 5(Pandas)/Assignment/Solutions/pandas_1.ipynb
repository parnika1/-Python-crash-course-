{
 "nbformat": 4,
 "nbformat_minor": 2,
 "metadata": {
  "kernelspec": {
   "display_name": "Python 3",
   "language": "python",
   "name": "python3"
  }
 },
 "cells": [
  {
   "cell_type": "code",
   "execution_count": null,
   "metadata": {},
   "outputs": [],
   "source": [
    "import pandas as pd\n",
    "import numpy as np\n",
    "import seaborn as sb\n",
    "import matplotlib.pyplot as plt\n",
    "%matplotlib inline"
   ]
  },
  {
   "cell_type": "code",
   "execution_count": null,
   "metadata": {},
   "outputs": [],
   "source": [
    "df1 = pd.read_csv('../data/pandas_1_df_1.csv')\n",
    "df2 = pd.read_csv('../data/pandas_1_df_2.csv')\n",
    "df3 = pd.read_csv('../data/pandas_1_df_3.csv')"
   ]
  },
  {
   "cell_type": "markdown",
   "metadata": {},
   "source": [
    "# Assignment 1.1\n",
    "Check that the DataFrames `df1` and `df2` has the same number of columns. The expression should return True, if the number of columns are identical and False otherwise\n",
    "\n",
    "<details><summary>Hint 1</summary>\n",
    "    <p>\n",
    "        A pandas DataFrame has an attribute `shape`, that returns a tuple with the dimensions of the DataFrame\n",
    "    </p>\n",
    "</details>\n",
    "<details><summary>Hint 2</summary>\n",
    "    <p>\n",
    "        The individual elements of a tuple can be accessed by using an index, just like a list\n",
    "    </p>\n",
    "</details>"
   ]
  },
  {
   "cell_type": "code",
   "execution_count": null,
   "metadata": {},
   "outputs": [],
   "source": [
    "df1.shape[1]==df2.shape[1]"
   ]
  },
  {
   "cell_type": "markdown",
   "metadata": {},
   "source": [
    "# Assignment 1.2\n",
    "Check whether the columns names in `df1` and `df2`, as well as `df2` and `df3`, are identical (they do not need to be in the same order). Return True if the column names are identical and False otherwise\n",
    "<details><summary>Hint 1</summary>\n",
    "    <p>\n",
    "        A pandas DataFrame has an attribute `columns`, which holds the column names\n",
    "    </p>\n",
    "</details>\n",
    "<details><summary>Hint 2</summary>\n",
    "    <p>\n",
    "        The column names returned in `columns` are of type `Index`. This object has a method `isin`, which returns a Boolean value of whether or not an element in the index is in the iterable object passed to the `isin` method.\n",
    "    </p>\n",
    "</details>\n",
    "<details><summary>Hint 3</summary>\n",
    "    <p>\n",
    "        Series, Index and DataFrames in pandas has the aggregate functions `all` and `any` to aggregate over Boolean values\n",
    "    </p>\n",
    "</details>"
   ]
  },
  {
   "cell_type": "code",
   "execution_count": null,
   "metadata": {},
   "outputs": [],
   "source": [
    "print('Columns in df1 and df2 are identical:',(df1.columns.isin(df2.columns).all() and df2.columns.isin(df1.columns).all()))\n",
    "print('Columns in df1 and df2 are identical:',(df2.columns.isin(df3.columns).all() and df3.columns.isin(df2.columns).all()))"
   ]
  },
  {
   "cell_type": "markdown",
   "metadata": {},
   "source": [
    "# Assignment 1.3\n",
    "Find the names of columns in `df2`, that are not in `df3` and vice versa. Rename the mismatching column in `df3` to match the name in `df2`\n",
    "<details><summary>Hint 1</summary>\n",
    "    <p>\n",
    "        The `isin` method from the assignment above can be used to generate a Boolean series for selecting column names\n",
    "    </p>\n",
    "</details>\n",
    "<details><summary>Hint 2</summary>\n",
    "    <p>\n",
    "        DataFrames have a method `rename`, which can be used to rename columns and rows by passing a dictionary with old and new names as key-value pairs\n",
    "    </p>\n",
    "</details>"
   ]
  },
  {
   "cell_type": "code",
   "execution_count": null,
   "metadata": {},
   "outputs": [],
   "source": [
    "missing_in_df3 = df2.columns[~df2.columns.isin(df3.columns)].tolist()\n",
    "missing_in_df2 = df3.columns[~df3.columns.isin(df2.columns)].tolist()\n",
    "print('Columns from df2 that are not in df3:', missing_in_df3)\n",
    "print('Columns from df3 that are not in df2:', missing_in_df2)\n",
    "df3 = df3.rename(columns={missing_in_df2[0]:missing_in_df3[0]})\n",
    "(df2.columns.isin(df3.columns).all() and df3.columns.isin(df2.columns).all())"
   ]
  },
  {
   "cell_type": "markdown",
   "metadata": {},
   "source": [
    "# Assignment 1.4\n",
    "Find the columns in `df2` and `df3`, where the data types do not match. Correct them in `df3` to match `df2`.\n",
    "<details><summary>Hint 1</summary>\n",
    "    <p>\n",
    "        A pandas DataFrame has an attribute `dtypes`, that holds all the columns' data types\n",
    "    </p>\n",
    "</details>\n",
    "<details><summary>Hint 2</summary>\n",
    "    <p>\n",
    "        Pandas Series has a method `to_frame` to convert it into a one-column dataframe. This is needed, when using the pandas function `concat` to concatenate two Series into a two-column dataframe\n",
    "    </p>\n",
    "</details>\n",
    "<details><summary>Hint 3</summary>\n",
    "    <p>\n",
    "        Both the pandas DataFrame and Series has a method `astype` for changing data types\n",
    "    </p>\n",
    "</details>"
   ]
  },
  {
   "cell_type": "code",
   "execution_count": null,
   "metadata": {},
   "outputs": [],
   "source": [
    "tmp = pd.concat([df2.dtypes.rename('df2_types').to_frame(),df3.dtypes.rename('df3_types').to_frame()], axis=1)\n",
    "df3 = df3.astype({c:df2.dtypes[c] for c in tmp[tmp['df2_types']!=tmp['df3_types']].index})\n",
    "df3.dtypes"
   ]
  },
  {
   "cell_type": "markdown",
   "metadata": {},
   "source": [
    "# Assignment 1.5\n",
    "Count the number of unique values in every column of `df1` and return the results as a Series with the column name as index\n",
    "<details><summary>Hint 1</summary>\n",
    "    <p>\n",
    "        Both pandas Series and DataFrames have a method `nunique`, that counts the number of unique values in the Series or the columns/rows of the DataFrame\n",
    "    </p>\n",
    "</details>"
   ]
  },
  {
   "cell_type": "code",
   "execution_count": null,
   "metadata": {},
   "outputs": [],
   "source": [
    "df1.nunique()"
   ]
  }
 ]
}