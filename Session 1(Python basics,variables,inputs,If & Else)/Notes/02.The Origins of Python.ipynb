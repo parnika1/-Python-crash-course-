{
 "cells": [
  {
   "cell_type": "markdown",
   "metadata": {},
   "source": [
    "# History of Python"
   ]
  },
  {
   "cell_type": "markdown",
   "metadata": {},
   "source": [
    "### 1. Python was conceptualized in the late 1980s by Guido van Rossum.\n",
    "\n",
    "### 2. It is inspired from ABC - A general-purpose programming language and programming environment developed at Centrum Wiskunde & Informatica (CWI) in Netherlands, Amsterdam.\n"
   ]
  },
  {
   "cell_type": "markdown",
   "metadata": {},
   "source": [
    "# Comedy, Snake or Programming Language"
   ]
  },
  {
   "cell_type": "markdown",
   "metadata": {},
   "source": [
    "## Why it has been named as Python?\n",
    "### Most people think about snakes, and even the logo depicts two snakes, but the origin of the name has its root in British humour. Around December 1989, Guido van Rossum decided to write an interpreter for the new scripting language- a descendant of ABC that would appeal to Unix/C hackers. So he chose \"Python\" as a working title for the project, being in a slightly irreverent mood as he is a big fan of Monty Python's Flying Circus."
   ]
  },
  {
   "cell_type": "markdown",
   "metadata": {},
   "source": [
    "# The Zen of Python"
   ]
  },
  {
   "cell_type": "raw",
   "metadata": {},
   "source": [
    "Beautiful is better than ugly.\n",
    "Explicit is better than implicit.\n",
    "Simple is better than complex.\n",
    "Complex is better than complicated.\n",
    "Flat is better than nested.\n",
    "Sparse is better than dense.\n",
    "Readability counts.\n",
    "Special cases aren't special enough to break the rules.\n",
    "Although practicality beats purity.\n",
    "Errors should never pass silently.\n",
    "Unless explicitly silenced.\n",
    "In the face of ambiguity, refuse the temptation to guess.\n",
    "There should be one -- and preferably only one -- obvious way to do it.\n",
    "Although that way may not be obvious at first unless you're Dutch.\n",
    "Now is better than never.\n",
    "Although never is often better than *right* now.\n",
    "If the implementation is hard to explain, it's a bad idea.\n",
    "If the implementation is easy to explain, it may be a good idea.\n",
    "Namespaces are one honking great idea -- let's do more of those!"
   ]
  },
  {
   "cell_type": "markdown",
   "metadata": {},
   "source": [
    "# Development Steps of Python"
   ]
  },
  {
   "cell_type": "markdown",
   "metadata": {},
   "source": [
    "### 1. First version of Python code (version 0.9.0) was released in February 1991.\n",
    "### 2. Python version 1.0 was released in January 1994.\n",
    "### 3. Six and a half years later in October 2000, Python 2.0 was introduced.\n",
    "### 4. After 8 years, Python 3.0 (also known as \"Python 3000\" and \"Py3K\") was released."
   ]
  },
  {
   "cell_type": "markdown",
   "metadata": {},
   "source": [
    "# Python 3.x"
   ]
  },
  {
   "cell_type": "markdown",
   "metadata": {},
   "source": [
    "### 1.Python 3 is not backwards compatible with Python 2.x .\n",
    "### 2. The emphasis in Python 3 had been on the removal of duplicate programming constructs and modules, thus fulfilling or coming close to fulfilling the 13th law of the Zen of Python: \"There should be one -- and preferably only one -- obvious way to do it.\"\n",
    "\n",
    "### Some changes in Python 3.0:\n",
    "#### a.Print is now a function\n",
    "#### b.Views and iterators instead of lists\n",
    "#### c.The rules for ordering comparisons have been simplified. E.g. a heterogeneous list cannot be sorted, because all the elements of a list must be comparable to each other.\n",
    "#### d.There is only one integer type left, i.e. int. long is int as well.\n",
    "#### e.The division of two integers returns a float instead of an integer. \"//\" can be used to have the \"old\" behaviour.\n",
    "#### f.Text Vs. Data Instead Of Unicode Vs. 8-bit"
   ]
  }
 ],
 "metadata": {
  "kernelspec": {
   "display_name": "Python 3",
   "language": "python",
   "name": "python3"
  },
  "language_info": {
   "codemirror_mode": {
    "name": "ipython",
    "version": 3
   },
   "file_extension": ".py",
   "mimetype": "text/x-python",
   "name": "python",
   "nbconvert_exporter": "python",
   "pygments_lexer": "ipython3",
   "version": "3.7.4"
  }
 },
 "nbformat": 4,
 "nbformat_minor": 2
}
