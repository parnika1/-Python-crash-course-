{
 "cells": [
  {
   "cell_type": "markdown",
   "metadata": {},
   "source": [
    "# Statements\n",
    "\n",
    "### Instructions that an interpreter can execute are called statements.\n",
    "\n",
    "e.g. x=5 is an assignment statement. Similarly we have for statements, if statemnts etc.\n",
    "\n",
    "### Statements can be:-\n",
    "\n",
    "## 1.Single line"
   ]
  },
  {
   "cell_type": "code",
   "execution_count": 1,
   "metadata": {},
   "outputs": [],
   "source": [
    "x=5;"
   ]
  },
  {
   "cell_type": "markdown",
   "metadata": {},
   "source": [
    "## Multiline\n",
    "\n",
    "### In Python, end of a statement is marked by a newline character. But we can make a statement extend over multiple lines with the line continuation characters such as \\ , () ,[] ,{}. "
   ]
  },
  {
   "cell_type": "code",
   "execution_count": 2,
   "metadata": {},
   "outputs": [],
   "source": [
    "#Using '\\' backslash\n",
    "\n",
    "a = 1 + 2 + 3 + \\\n",
    "    4 + 5 + 6 + \\\n",
    "    7 + 8 + 9\n",
    "\n",
    "# Using () parathesis\n",
    "\n",
    "a = (1 + 2 + 3 +\n",
    "    4 + 5 + 6 +\n",
    "    7 + 8 + 9)\n",
    "\n",
    "# Using [] brackets\n",
    "colors = ['red',\n",
    "          'blue',\n",
    "          'green']"
   ]
  },
  {
   "cell_type": "markdown",
   "metadata": {},
   "source": [
    "### We could also put multiple statements in a single line using semicolons"
   ]
  },
  {
   "cell_type": "code",
   "execution_count": 3,
   "metadata": {},
   "outputs": [],
   "source": [
    "a = 1; b = 2; c = 3"
   ]
  },
  {
   "cell_type": "markdown",
   "metadata": {},
   "source": [
    "# Indentation"
   ]
  },
  {
   "cell_type": "markdown",
   "metadata": {},
   "source": [
    "## Blocks\n",
    "### A block is a group of statements in a program or script. Usually it consists of at least one statement and of declarations for the block, depending on the programming or scripting language.\n",
    "### A block in a script or program functions as a mean to group statements to be treated as if they were one statement.\n",
    "### Programming languages usually use certain methods to group statements into blocks:\n",
    "\n"
   ]
  },
  {
   "cell_type": "markdown",
   "metadata": {},
   "source": [
    "### The indentations in this code fragment are not necessary. So the code could be written - offending common decency - as\n",
    "\n",
    "### Please, keep this in mind to understand the advantages of Python!"
   ]
  },
  {
   "cell_type": "markdown",
   "metadata": {},
   "source": [
    "# Indenting Code in Python"
   ]
  },
  {
   "attachments": {
    "image.png": {
     "image/png": "[encoded data removed]"
    }
   },
   "cell_type": "markdown",
   "metadata": {},
   "source": [
    "### Python programs get structured through indentation, i.e. code blocks are defined by their indentation.This principle makes it easier to read and understand other people's Python code.\n",
    "\n",
    "### All statements with the same distance to the right belong to the same block of code, i.e. the statements within a block line up vertically. The block ends at a line less indented or the end of the file. If a block has to be more deeply nested, it is simply indented further to the right.\n",
    "\n",
    "![image.png](attachment:image.png)\n",
    "\n",
    "## Imp:-To access a variables inside a block it must be defined above in the same block or anywhere in the blocks above it.\n",
    "## Value of variable remains same throughout the block unless it is updated inside the same block or blocks above them."
   ]
  },
  {
   "cell_type": "markdown",
   "metadata": {},
   "source": [
    "### There is another aspect of structuring in Python, which we haven't mentioned so far, which you can see in the example. Loops and Conditional statements end with a colon \":\" - the same is true for functions and other structures introducing blocks. So, Python structures by colons and indentation."
   ]
  },
  {
   "cell_type": "code",
   "execution_count": 4,
   "metadata": {},
   "outputs": [
    {
     "name": "stdout",
     "output_type": "stream",
     "text": [
      "1 2 3\n",
      "a b c\n",
      "a b c\n"
     ]
    }
   ],
   "source": [
    "a=True\n",
    "b=True\n",
    "if a:\n",
    "    #print(x,y,z)# -- throws error because x is unknown till now\n",
    "    x=1;y=2;z=3\n",
    "    if b:\n",
    "        print(x,y,z) # X,Y,Z before updating their values \n",
    "        x='a';y='b';z='c'\n",
    "        print(x,y,z) # X,Y,Z after updating their values \n",
    "    print(x,y,z)\n",
    "else:\n",
    "    print(\"a is not true\")"
   ]
  },
  {
   "cell_type": "raw",
   "metadata": {},
   "source": [
    "Block 1 : line 1 to 11\n",
    "Block 2 : line 4 to 10\n",
    "Block 3 : line 7 to 9\n",
    "Block 4 : line 12 to 12"
   ]
  },
  {
   "cell_type": "markdown",
   "metadata": {},
   "source": [
    "# Comments"
   ]
  },
  {
   "cell_type": "markdown",
   "metadata": {},
   "source": [
    "### Comments are lines in computer program/scripts that are ignored by compliers/interpreters and do not execute.\n",
    "### They are only for documentation purpose i.e. to make the code more readable for humans as they provide extra information about the code snippet that is followed by them\n",
    "### In general, it is a good practise to write comments while programming as they can contain key details/concepts which might be useful in explaining the parts of the program that are complex in nature."
   ]
  },
  {
   "cell_type": "markdown",
   "metadata": {},
   "source": [
    "## In Python, we use the hash (#) symbol to write a comments"
   ]
  },
  {
   "cell_type": "code",
   "execution_count": 5,
   "metadata": {},
   "outputs": [
    {
     "name": "stdout",
     "output_type": "stream",
     "text": [
      "Hello World\n"
     ]
    }
   ],
   "source": [
    "#This is a comment\n",
    "#print Hello,world\n",
    "print(\"Hello World\")"
   ]
  },
  {
   "cell_type": "markdown",
   "metadata": {},
   "source": [
    "## They can be extended over mutiple lines as well"
   ]
  },
  {
   "cell_type": "code",
   "execution_count": 6,
   "metadata": {},
   "outputs": [],
   "source": [
    "#This is a long comment\n",
    "#and it extends\n",
    "#to multiple lines"
   ]
  },
  {
   "cell_type": "markdown",
   "metadata": {},
   "source": [
    "## Another way of doing this is to use triple quotes(either ''' or \"\"\") as they do not generate any code, but they are treated as code and should be properly indented within blocks to work correctly!"
   ]
  },
  {
   "cell_type": "code",
   "execution_count": 2,
   "metadata": {},
   "outputs": [
    {
     "data": {
      "text/plain": [
       "'\\nThis is an alternate\\nway of specifying a\\nmulti-line comment\\n'"
      ]
     },
     "execution_count": 2,
     "metadata": {},
     "output_type": "execute_result"
    }
   ],
   "source": [
    "\"\"\"\n",
    "This is an alternate\n",
    "way of specifying a\n",
    "multi-line comment\n",
    "\"\"\"\n",
    "\n"
   ]
  },
  {
   "cell_type": "markdown",
   "metadata": {},
   "source": [
    "## Note:- In Python there is no concept of multi-line comments however triple quotes which are string literals can be used as an alternative to multi-line comments unless they are not specified as docstrings( i.e. within functions)"
   ]
  }
 ],
 "metadata": {
  "kernelspec": {
   "display_name": "Python 3",
   "language": "python",
   "name": "python3"
  },
  "language_info": {
   "codemirror_mode": {
    "name": "ipython",
    "version": 3
   },
   "file_extension": ".py",
   "mimetype": "text/x-python",
   "name": "python",
   "nbconvert_exporter": "python",
   "pygments_lexer": "ipython3",
   "version": "3.7.1"
  }
 },
 "nbformat": 4,
 "nbformat_minor": 2
}
