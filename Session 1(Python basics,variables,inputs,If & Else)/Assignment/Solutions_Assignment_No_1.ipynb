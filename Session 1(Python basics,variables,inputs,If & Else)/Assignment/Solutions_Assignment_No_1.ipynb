{
 "cells": [
  {
   "cell_type": "markdown",
   "metadata": {},
   "source": [
    "### Q1.Insert the missing part of the code below to output \"Hello World\".\n",
    "### ____(\"Hello World\")"
   ]
  },
  {
   "cell_type": "code",
   "execution_count": 1,
   "metadata": {},
   "outputs": [
    {
     "name": "stdout",
     "output_type": "stream",
     "text": [
      "Hello World\n"
     ]
    }
   ],
   "source": [
    "print(\"Hello World\")"
   ]
  },
  {
   "cell_type": "markdown",
   "metadata": {},
   "source": [
    "### Q2.This example misses indentations to be correct. Insert the missing indentation to make the code correct:"
   ]
  },
  {
   "cell_type": "code",
   "execution_count": 2,
   "metadata": {},
   "outputs": [
    {
     "name": "stdout",
     "output_type": "stream",
     "text": [
      "Five is greater than two!\n"
     ]
    }
   ],
   "source": [
    "if 5 > 2:\n",
    "    print(\"Five is greater than two!\")"
   ]
  },
  {
   "cell_type": "markdown",
   "metadata": {},
   "source": [
    "### Q3.Identify the different code blocks in the below code snippet"
   ]
  },
  {
   "cell_type": "raw",
   "metadata": {},
   "source": [
    "from math import sqrt\n",
    "n = input(\"Maximum Number? \")\n",
    "n = int(n)+1\n",
    "for a in range(1,n):\n",
    "    for b in range(a,n):\n",
    "        c_square = a**2 + b**2\n",
    "        c = int(sqrt(c_square))\n",
    "        if ((c_square - c**2) == 0):\n",
    "            print(a, b, c)"
   ]
  },
  {
   "cell_type": "raw",
   "metadata": {},
   "source": [
    "block 1 : line 1 to 9\n",
    "block 2 : line 5 to 9\n",
    "block 3 : line 6 to 9\n",
    "block 4 : line 9 to 9"
   ]
  },
  {
   "cell_type": "markdown",
   "metadata": {},
   "source": [
    "### Q4.Comment the following line of code?"
   ]
  },
  {
   "cell_type": "code",
   "execution_count": 3,
   "metadata": {
    "collapsed": true
   },
   "outputs": [],
   "source": [
    "#print(\"This a comment\")"
   ]
  },
  {
   "cell_type": "markdown",
   "metadata": {},
   "source": [
    "### Q5.Use a multiline string to make the a multi line comment:\n",
    "__\n",
    "\n",
    "This is a comment\n",
    "\n",
    "written in \n",
    "\n",
    "more that just one line\n",
    "\n",
    "__"
   ]
  },
  {
   "cell_type": "code",
   "execution_count": 4,
   "metadata": {},
   "outputs": [
    {
     "data": {
      "text/plain": [
       "'\\nThis is a comment\\nwritten in \\nmore that just one line\\n'"
      ]
     },
     "execution_count": 4,
     "metadata": {},
     "output_type": "execute_result"
    }
   ],
   "source": [
    "'''\n",
    "This is a comment\n",
    "written in \n",
    "more that just one line\n",
    "'''"
   ]
  },
  {
   "cell_type": "markdown",
   "metadata": {},
   "source": [
    "### Q6. Identify the valid variable names\n",
    "\n",
    "#### 1) x\n",
    "#### 2) 1234\n",
    "#### 3) __value\n",
    "#### 4) 1abcd\n",
    "#### 5) @abcd\n",
    "#### 6) value_x\n",
    "#### 7) ____"
   ]
  },
  {
   "cell_type": "raw",
   "metadata": {},
   "source": [
    "1,3,6,7"
   ]
  },
  {
   "cell_type": "markdown",
   "metadata": {},
   "source": [
    "### Q7.Create a variable named \"carname\" and assign the value \"Volvo\" to it."
   ]
  },
  {
   "cell_type": "code",
   "execution_count": null,
   "metadata": {
    "collapsed": true
   },
   "outputs": [],
   "source": [
    "carname='Volvo'"
   ]
  },
  {
   "cell_type": "markdown",
   "metadata": {},
   "source": [
    "### Q8.Remove the illegal characters in the variable name:"
   ]
  },
  {
   "cell_type": "code",
   "execution_count": null,
   "metadata": {
    "collapsed": true
   },
   "outputs": [],
   "source": [
    "#2my-first_name = \"John\"\n",
    "myfirst_name = \"John\""
   ]
  },
  {
   "cell_type": "markdown",
   "metadata": {},
   "source": [
    "### Q9. What will be the values of a, b and c after executing each of the below statements\n",
    "\n",
    "#### i)   a=b=c=5; d=5;\n",
    "#### ii)  a=5;b=a;c=2;b=c;\n",
    "#### iii) a=\"Hello\"; b=\"Ram\" ; b=a ; c=\"Raj\"\n",
    "#### iv) a='Hello'; b='World' ; c='Hi' d='World'"
   ]
  },
  {
   "cell_type": "raw",
   "metadata": {},
   "source": [
    "i)   5 5 5\n",
    "ii)  5 2 2\n",
    "iii) Hello Hello Raj\n",
    "iv)  Throws an error since ; is missing after c='Hi'"
   ]
  },
  {
   "cell_type": "markdown",
   "metadata": {},
   "source": [
    "### Q10. Identify the valid keywords \n",
    "\n",
    "#### 'variable' , 'in' , 'local' , 'package' , 'Finally' , 'raise', 'jump' , 'elif' , 'query' , 'global' , 'python' , 'comments' , 'true' ,'lambda'"
   ]
  },
  {
   "cell_type": "raw",
   "metadata": {},
   "source": [
    "in\n",
    "raise\n",
    "elif\n",
    "global\n",
    "lambda"
   ]
  },
  {
   "cell_type": "markdown",
   "metadata": {},
   "source": [
    "### Q11. Take value 5 as a user input in variable \"x\" and print its value and type"
   ]
  },
  {
   "cell_type": "code",
   "execution_count": 15,
   "metadata": {},
   "outputs": [
    {
     "name": "stdout",
     "output_type": "stream",
     "text": [
      "Enter Value: 5\n",
      "5\n",
      "<class 'str'>\n"
     ]
    }
   ],
   "source": [
    "x=input(\"Enter Value: \")\n",
    "print(x)\n",
    "print(type(x))"
   ]
  },
  {
   "cell_type": "markdown",
   "metadata": {},
   "source": [
    "### Q12.Multiply 10 with 5, and print the result."
   ]
  },
  {
   "cell_type": "code",
   "execution_count": 16,
   "metadata": {},
   "outputs": [
    {
     "name": "stdout",
     "output_type": "stream",
     "text": [
      "50\n"
     ]
    }
   ],
   "source": [
    "print(10*5)"
   ]
  },
  {
   "cell_type": "markdown",
   "metadata": {},
   "source": [
    " ### Q13.Divide 10 by 2, and print the result."
   ]
  },
  {
   "cell_type": "code",
   "execution_count": 17,
   "metadata": {},
   "outputs": [
    {
     "name": "stdout",
     "output_type": "stream",
     "text": [
      "2.0\n"
     ]
    }
   ],
   "source": [
    "print(10/5)"
   ]
  },
  {
   "cell_type": "markdown",
   "metadata": {},
   "source": [
    "### Q14.Explain the diffrence between 9/2 and 9//2 in python."
   ]
  },
  {
   "cell_type": "raw",
   "metadata": {
    "collapsed": true
   },
   "source": [
    "/ - division operator resulting in float value, // - floor division resulting integer value\n",
    "Hence 9/2=4.5 whereas 9//2=4."
   ]
  },
  {
   "cell_type": "markdown",
   "metadata": {},
   "source": [
    "### Q15.Use the correct membership operator to check if \"apple\" is present in the fruits list.Replace __ with the correct operator"
   ]
  },
  {
   "cell_type": "code",
   "execution_count": 19,
   "metadata": {},
   "outputs": [
    {
     "name": "stdout",
     "output_type": "stream",
     "text": [
      "Yes, apple is a fruit!\n"
     ]
    }
   ],
   "source": [
    "fruits = [\"apple\", \"banana\"]\n",
    "if \"apple\" in fruits:\n",
    "    print(\"Yes, apple is a fruit!\")"
   ]
  },
  {
   "cell_type": "markdown",
   "metadata": {},
   "source": [
    "### Q16.Use the correct comparison operator to check if 5 is not equal to 10.Replace __ with the correct operator"
   ]
  },
  {
   "cell_type": "code",
   "execution_count": 21,
   "metadata": {},
   "outputs": [
    {
     "name": "stdout",
     "output_type": "stream",
     "text": [
      "5 and 10 is not equal\n"
     ]
    }
   ],
   "source": [
    "if 5 != 10:\n",
    "    print(\"5 and 10 is not equal\")"
   ]
  },
  {
   "cell_type": "markdown",
   "metadata": {},
   "source": [
    "### Q17.Use the correct logical operator to check if at least one of two statements is True.Replace __ with the correct operator"
   ]
  },
  {
   "cell_type": "code",
   "execution_count": 22,
   "metadata": {},
   "outputs": [
    {
     "name": "stdout",
     "output_type": "stream",
     "text": [
      "At least one of the statements is true\n"
     ]
    }
   ],
   "source": [
    "if 5 == 10 or 4 == 4:\n",
    "    print(\"At least one of the statements is true\")"
   ]
  }
 ],
 "metadata": {
  "kernelspec": {
   "display_name": "Python 3",
   "language": "python",
   "name": "python3"
  },
  "language_info": {
   "codemirror_mode": {
    "name": "ipython",
    "version": 3
   },
   "file_extension": ".py",
   "mimetype": "text/x-python",
   "name": "python",
   "nbconvert_exporter": "python",
   "pygments_lexer": "ipython3",
   "version": "3.7.1"
  }
 },
 "nbformat": 4,
 "nbformat_minor": 2
}
