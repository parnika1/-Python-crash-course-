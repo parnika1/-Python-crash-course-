{
 "cells": [
  {
   "cell_type": "markdown",
   "metadata": {},
   "source": [
    "# AssignmentNo_5"
   ]
  },
  {
   "cell_type": "markdown",
   "metadata": {},
   "source": [
    "### Q1.Create a function that can accept two positional arguments name and age of an employee and return the output as \"Hello John. You are 25 years old.\" if we pass name as \"John\" and age as \"25\". "
   ]
  },
  {
   "cell_type": "code",
   "execution_count": null,
   "metadata": {
    "collapsed": true
   },
   "outputs": [],
   "source": []
  },
  {
   "cell_type": "markdown",
   "metadata": {},
   "source": [
    "### Q2.Write a function product() which accepts arbitrary number of integers and return their product. E.g. add(4,5,1) should return me 20."
   ]
  },
  {
   "cell_type": "code",
   "execution_count": null,
   "metadata": {
    "collapsed": true
   },
   "outputs": [],
   "source": []
  },
  {
   "cell_type": "markdown",
   "metadata": {},
   "source": [
    "### Q3.Write a recursive Python function add() that returns the sum of the first n integers. Pass value of n using a keyword argument. E.g. add(n=5) should return 15(5+4+3+2+1)."
   ]
  },
  {
   "cell_type": "code",
   "execution_count": null,
   "metadata": {
    "collapsed": true
   },
   "outputs": [],
   "source": []
  },
  {
   "cell_type": "markdown",
   "metadata": {},
   "source": [
    "### Q4. Using lambda function write a program that prints the squares of numbers in a given list. E.g for list l1=[1,2,3,4,5] output should be a list with squares [1,4,9,25]"
   ]
  },
  {
   "cell_type": "code",
   "execution_count": null,
   "metadata": {
    "collapsed": true
   },
   "outputs": [],
   "source": []
  },
  {
   "cell_type": "markdown",
   "metadata": {},
   "source": [
    "### Q5. Using the appopriate keyword (global,nonlocal etc. ) in place of _____ , debugg the following program to generate output as \"Welcome John from USA.\" if user inputs name as \"John\" and country as \"USA\"."
   ]
  },
  {
   "cell_type": "code",
   "execution_count": null,
   "metadata": {},
   "outputs": [],
   "source": [
    "greet_msg=\"Welcome \"\n",
    "\n",
    "def add_info():\n",
    "    ______ greet_msg\n",
    "    name=input(\"Enter your name:\")\n",
    "    country=input(\"Enter your country:\")\n",
    "    greet_msg=greet_msg+name+ \" from \"+country+\".\"\n",
    "    \n",
    "\n",
    "add_info()\n",
    "print(greet_msg)"
   ]
  }
 ],
 "metadata": {
  "kernelspec": {
   "display_name": "Python 3",
   "language": "python",
   "name": "python3"
  },
  "language_info": {
   "codemirror_mode": {
    "name": "ipython",
    "version": 3
   },
   "file_extension": ".py",
   "mimetype": "text/x-python",
   "name": "python",
   "nbconvert_exporter": "python",
   "pygments_lexer": "ipython3",
   "version": "3.6.1"
  }
 },
 "nbformat": 4,
 "nbformat_minor": 2
}
